{
  "cells": [
    {
      "cell_type": "markdown",
      "metadata": {
        "id": "jE8-FyOZdpAk"
      },
      "source": [
        "# Data import"
      ]
    },
    {
      "cell_type": "code",
      "source": [
        "!gdown https://drive.google.com/uc?id=1lNlp9iRAiYfDxwishtN0tONqjI4FZCIs"
      ],
      "metadata": {
        "colab": {
          "base_uri": "https://localhost:8080/"
        },
        "id": "EisITB_1fnC8",
        "outputId": "af8d7b4d-b2b6-4003-ba60-63236944c80a"
      },
      "execution_count": 53,
      "outputs": [
        {
          "output_type": "stream",
          "name": "stdout",
          "text": [
            "Downloading...\n",
            "From: https://drive.google.com/uc?id=1lNlp9iRAiYfDxwishtN0tONqjI4FZCIs\n",
            "To: /content/data.zip\n",
            "100% 211M/211M [00:07<00:00, 28.8MB/s]\n"
          ]
        }
      ]
    },
    {
      "cell_type": "code",
      "source": [
        "!unzip data.zip"
      ],
      "metadata": {
        "colab": {
          "base_uri": "https://localhost:8080/"
        },
        "id": "yKLH0CW1k8dD",
        "outputId": "ed05eda5-acf8-433a-8489-b64b2617dbc1"
      },
      "execution_count": 54,
      "outputs": [
        {
          "output_type": "stream",
          "name": "stdout",
          "text": [
            "Archive:  data.zip\n",
            "   creating: data/\n",
            "  inflating: data/RAW_interactions.csv  \n",
            "  inflating: data/RAW_recipes.csv    \n",
            "  inflating: data/interactions_test.csv  \n",
            "  inflating: data/interactions_train.csv  \n"
          ]
        }
      ]
    },
    {
      "cell_type": "code",
      "execution_count": 56,
      "metadata": {
        "id": "fNhFVnzcdpAr"
      },
      "outputs": [],
      "source": [
        "import pandas as pd\n",
        "\n",
        "Path = \"./data/\"\n",
        "\n",
        "# Read interactions_test.csv\n",
        "df_interactions_test = pd.read_csv(Path + 'interactions_test.csv')\n",
        "\n",
        "# Read interactions_train.csv\n",
        "df_interactions_train = pd.read_csv(Path + 'interactions_train.csv')\n",
        "\n",
        "# Read RAW_interactions.csv\n",
        "df_raw_interactions = pd.read_csv(Path + 'RAW_interactions.csv')\n",
        "\n",
        "# Read RAW_recipes.csv\n",
        "df_raw_recipes = pd.read_csv(Path + 'RAW_recipes.csv')\n"
      ]
    },
    {
      "cell_type": "code",
      "execution_count": 57,
      "metadata": {
        "colab": {
          "base_uri": "https://localhost:8080/"
        },
        "id": "348QdQsjdpAu",
        "outputId": "843dfc51-5afc-4042-add5-3824a334e2a1"
      },
      "outputs": [
        {
          "output_type": "stream",
          "name": "stdout",
          "text": [
            "df_interactions_test:\n",
            "user_id range: 1533 - 2002254807\n",
            "recipe_id range: 120 - 537716\n",
            "\n",
            "df_interactions_train:\n",
            "user_id range: 1533 - 2002312797\n",
            "recipe_id range: 38 - 537458\n",
            "\n",
            "df_raw_interactions:\n",
            "user_id range: 1533 - 2002372706\n",
            "recipe_id range: 38 - 537716\n"
          ]
        }
      ],
      "source": [
        "# Show range of user_id and recipe_id for df_interactions_test\n",
        "print(\"df_interactions_test:\")\n",
        "print(\"user_id range:\", df_interactions_test['user_id'].min(), \"-\", df_interactions_test['user_id'].max())\n",
        "print(\"recipe_id range:\", df_interactions_test['recipe_id'].min(), \"-\", df_interactions_test['recipe_id'].max())\n",
        "print()\n",
        "\n",
        "# Show range of user_id and recipe_id for df_interactions_train\n",
        "print(\"df_interactions_train:\")\n",
        "print(\"user_id range:\", df_interactions_train['user_id'].min(), \"-\", df_interactions_train['user_id'].max())\n",
        "print(\"recipe_id range:\", df_interactions_train['recipe_id'].min(), \"-\", df_interactions_train['recipe_id'].max())\n",
        "print()\n",
        "\n",
        "# Show range of user_id and recipe_id for df_raw_interactions\n",
        "print(\"df_raw_interactions:\")\n",
        "print(\"user_id range:\", df_raw_interactions['user_id'].min(), \"-\", df_raw_interactions['user_id'].max())\n",
        "print(\"recipe_id range:\", df_raw_interactions['recipe_id'].min(), \"-\", df_raw_interactions['recipe_id'].max())\n"
      ]
    },
    {
      "cell_type": "code",
      "execution_count": 4,
      "metadata": {
        "id": "LEW1YZR4dpAw"
      },
      "outputs": [],
      "source": [
        "# Delete 'u' and 'i' columns from df_interactions_test\n",
        "df_interactions_test.drop(['u', 'i'], axis=1, inplace=True)\n",
        "\n",
        "# Delete 'u' and 'i' columns from df_interactions_train\n",
        "df_interactions_train.drop(['u', 'i'], axis=1, inplace=True)"
      ]
    },
    {
      "cell_type": "code",
      "execution_count": 5,
      "metadata": {
        "colab": {
          "base_uri": "https://localhost:8080/"
        },
        "id": "6M3xfvVqdpAx",
        "outputId": "4149cfc8-5f2d-4bda-f76c-c6c8801ab1cd"
      },
      "outputs": [
        {
          "output_type": "stream",
          "name": "stdout",
          "text": [
            "DataFrame: df_interactions_test\n",
            "Shape: (12455, 4)\n",
            "            user_id      recipe_id        rating\n",
            "count  1.245500e+04   12455.000000  12455.000000\n",
            "mean   2.912689e+07  209323.124528      4.213087\n",
            "std    2.334357e+08  135001.832923      1.338503\n",
            "min    1.533000e+03     120.000000      0.000000\n",
            "25%    1.698420e+05   94616.000000      4.000000\n",
            "50%    3.829540e+05  195040.000000      5.000000\n",
            "75%    8.016370e+05  314928.500000      5.000000\n",
            "max    2.002255e+09  537716.000000      5.000000\n",
            "\n",
            "\n",
            "DataFrame: df_interactions_train\n",
            "Shape: (698901, 4)\n",
            "            user_id      recipe_id         rating\n",
            "count  6.989010e+05  698901.000000  698901.000000\n",
            "mean   1.247694e+07  156173.409849       4.574090\n",
            "std    1.525031e+08  126594.880211       0.959022\n",
            "min    1.533000e+03      38.000000       0.000000\n",
            "25%    1.059880e+05   53169.000000       4.000000\n",
            "50%    2.301020e+05  116484.000000       5.000000\n",
            "75%    4.801950e+05  234516.000000       5.000000\n",
            "max    2.002313e+09  537458.000000       5.000000\n",
            "\n",
            "\n",
            "DataFrame: df_raw_interactions\n",
            "Shape: (1132367, 5)\n",
            "            user_id     recipe_id        rating\n",
            "count  1.132367e+06  1.132367e+06  1.132367e+06\n",
            "mean   1.384291e+08  1.608972e+05  4.411016e+00\n",
            "std    5.014269e+08  1.303987e+05  1.264752e+00\n",
            "min    1.533000e+03  3.800000e+01  0.000000e+00\n",
            "25%    1.354700e+05  5.425700e+04  4.000000e+00\n",
            "50%    3.309370e+05  1.205470e+05  5.000000e+00\n",
            "75%    8.045500e+05  2.438520e+05  5.000000e+00\n",
            "max    2.002373e+09  5.377160e+05  5.000000e+00\n",
            "\n",
            "\n",
            "DataFrame: df_raw_recipes\n",
            "Shape: (231637, 12)\n",
            "                  id       minutes  contributor_id        n_steps  \\\n",
            "count  231637.000000  2.316370e+05    2.316370e+05  231637.000000   \n",
            "mean   222014.708984  9.398546e+03    5.534885e+06       9.765499   \n",
            "std    141206.635626  4.461963e+06    9.979141e+07       5.995128   \n",
            "min        38.000000  0.000000e+00    2.700000e+01       0.000000   \n",
            "25%     99944.000000  2.000000e+01    5.690500e+04       6.000000   \n",
            "50%    207249.000000  4.000000e+01    1.736140e+05       9.000000   \n",
            "75%    333816.000000  6.500000e+01    3.982750e+05      12.000000   \n",
            "max    537716.000000  2.147484e+09    2.002290e+09     145.000000   \n",
            "\n",
            "       n_ingredients  \n",
            "count  231637.000000  \n",
            "mean        9.051153  \n",
            "std         3.734796  \n",
            "min         1.000000  \n",
            "25%         6.000000  \n",
            "50%         9.000000  \n",
            "75%        11.000000  \n",
            "max        43.000000  \n",
            "\n",
            "\n"
          ]
        }
      ],
      "source": [
        "# List of DataFrames with names\n",
        "dataframes = [\n",
        "    (\"df_interactions_test\", df_interactions_test),\n",
        "    (\"df_interactions_train\", df_interactions_train),\n",
        "    (\"df_raw_interactions\", df_raw_interactions),\n",
        "    (\"df_raw_recipes\", df_raw_recipes)\n",
        "]\n",
        "\n",
        "# Apply describe() and print shape for each DataFrame\n",
        "for name, df in dataframes:\n",
        "    print(f\"DataFrame: {name}\")\n",
        "    print(f\"Shape: {df.shape}\")\n",
        "    print(df.describe())\n",
        "    print('\\n')  # Add a newline for separation"
      ]
    },
    {
      "cell_type": "code",
      "execution_count": 6,
      "metadata": {
        "colab": {
          "base_uri": "https://localhost:8080/"
        },
        "id": "JBK4KP-edpAy",
        "outputId": "785e1ca9-04f6-4f98-edc6-5c36590f49ef"
      },
      "outputs": [
        {
          "output_type": "stream",
          "name": "stdout",
          "text": [
            "DataFrame: df_interactions_test\n",
            "Shape: (12455, 4)\n",
            "   user_id  recipe_id        date  rating\n",
            "0     8937      44551  2005-12-23     4.0\n",
            "1    56680     126118  2006-10-07     4.0\n",
            "2   349752     219596  2008-04-12     0.0\n",
            "3   628951      82783  2007-11-13     2.0\n",
            "4    92816     435013  2013-07-31     3.0\n",
            "\n",
            "\n",
            "DataFrame: df_interactions_train\n",
            "Shape: (698901, 4)\n",
            "   user_id  recipe_id        date  rating\n",
            "0     2046       4684  2000-02-25     5.0\n",
            "1     2046        517  2000-02-25     5.0\n",
            "2     1773       7435  2000-03-13     5.0\n",
            "3     1773        278  2000-03-13     4.0\n",
            "4     2046       3431  2000-04-07     5.0\n",
            "\n",
            "\n",
            "DataFrame: df_raw_interactions\n",
            "Shape: (1132367, 5)\n",
            "   user_id  recipe_id        date  rating  \\\n",
            "0    38094      40893  2003-02-17       4   \n",
            "1  1293707      40893  2011-12-21       5   \n",
            "2     8937      44394  2002-12-01       4   \n",
            "3   126440      85009  2010-02-27       5   \n",
            "4    57222      85009  2011-10-01       5   \n",
            "\n",
            "                                              review  \n",
            "0  Great with a salad. Cooked on top of stove for...  \n",
            "1  So simple, so delicious! Great for chilly fall...  \n",
            "2  This worked very well and is EASY.  I used not...  \n",
            "3  I made the Mexican topping and took it to bunk...  \n",
            "4  Made the cheddar bacon topping, adding a sprin...  \n",
            "\n",
            "\n",
            "DataFrame: df_raw_recipes\n",
            "Shape: (231637, 12)\n",
            "                                         name      id  minutes  \\\n",
            "0  arriba   baked winter squash mexican style  137739       55   \n",
            "1            a bit different  breakfast pizza   31490       30   \n",
            "2                   all in the kitchen  chili  112140      130   \n",
            "3                          alouette  potatoes   59389       45   \n",
            "4          amish  tomato ketchup  for canning   44061      190   \n",
            "\n",
            "   contributor_id   submitted  \\\n",
            "0           47892  2005-09-16   \n",
            "1           26278  2002-06-17   \n",
            "2          196586  2005-02-25   \n",
            "3           68585  2003-04-14   \n",
            "4           41706  2002-10-25   \n",
            "\n",
            "                                                tags  \\\n",
            "0  ['60-minutes-or-less', 'time-to-make', 'course...   \n",
            "1  ['30-minutes-or-less', 'time-to-make', 'course...   \n",
            "2  ['time-to-make', 'course', 'preparation', 'mai...   \n",
            "3  ['60-minutes-or-less', 'time-to-make', 'course...   \n",
            "4  ['weeknight', 'time-to-make', 'course', 'main-...   \n",
            "\n",
            "                                    nutrition  n_steps  \\\n",
            "0       [51.5, 0.0, 13.0, 0.0, 2.0, 0.0, 4.0]       11   \n",
            "1   [173.4, 18.0, 0.0, 17.0, 22.0, 35.0, 1.0]        9   \n",
            "2  [269.8, 22.0, 32.0, 48.0, 39.0, 27.0, 5.0]        6   \n",
            "3   [368.1, 17.0, 10.0, 2.0, 14.0, 8.0, 20.0]       11   \n",
            "4   [352.9, 1.0, 337.0, 23.0, 3.0, 0.0, 28.0]        5   \n",
            "\n",
            "                                               steps  \\\n",
            "0  ['make a choice and proceed with recipe', 'dep...   \n",
            "1  ['preheat oven to 425 degrees f', 'press dough...   \n",
            "2  ['brown ground beef in large pot', 'add choppe...   \n",
            "3  ['place potatoes in a large pot of lightly sal...   \n",
            "4  ['mix all ingredients& boil for 2 1 / 2 hours ...   \n",
            "\n",
            "                                         description  \\\n",
            "0  autumn is my favorite time of year to cook! th...   \n",
            "1  this recipe calls for the crust to be prebaked...   \n",
            "2  this modified version of 'mom's' chili was a h...   \n",
            "3  this is a super easy, great tasting, make ahea...   \n",
            "4  my dh's amish mother raised him on this recipe...   \n",
            "\n",
            "                                         ingredients  n_ingredients  \n",
            "0  ['winter squash', 'mexican seasoning', 'mixed ...              7  \n",
            "1  ['prepared pizza crust', 'sausage patty', 'egg...              6  \n",
            "2  ['ground beef', 'yellow onions', 'diced tomato...             13  \n",
            "3  ['spreadable cheese with garlic and herbs', 'n...             11  \n",
            "4  ['tomato juice', 'apple cider vinegar', 'sugar...              8  \n",
            "\n",
            "\n"
          ]
        }
      ],
      "source": [
        "# Print first 5 rows for each DataFrame\n",
        "for name, df in dataframes:\n",
        "    print(f\"DataFrame: {name}\")\n",
        "    print(f\"Shape: {df.shape}\")\n",
        "    print(df.head(5))\n",
        "    print('\\n')  # Add a newline for separation"
      ]
    },
    {
      "cell_type": "markdown",
      "metadata": {
        "id": "2IhBJxvbdpAz"
      },
      "source": [
        "# Data preprocessing"
      ]
    },
    {
      "cell_type": "code",
      "execution_count": 7,
      "metadata": {
        "colab": {
          "base_uri": "https://localhost:8080/"
        },
        "id": "z0Cq8pzhdpA0",
        "outputId": "ff244d67-5bd0-4e1f-9645-eb5feba9842c"
      },
      "outputs": [
        {
          "output_type": "execute_result",
          "data": {
            "text/plain": [
              "(698901, 4)"
            ]
          },
          "metadata": {},
          "execution_count": 7
        }
      ],
      "source": [
        "ratings = df_interactions_train\n",
        "ratings.shape"
      ]
    },
    {
      "cell_type": "code",
      "execution_count": 8,
      "metadata": {
        "colab": {
          "base_uri": "https://localhost:8080/",
          "height": 206
        },
        "id": "sEITt-xadpA1",
        "outputId": "0aa5e7a9-0bfe-4102-82f4-e292a69e417d"
      },
      "outputs": [
        {
          "output_type": "execute_result",
          "data": {
            "text/plain": [
              "   user_id  recipe_id  rating\n",
              "0     2046       4684     5.0\n",
              "1     2046        517     5.0\n",
              "2     1773       7435     5.0\n",
              "3     1773        278     4.0\n",
              "4     2046       3431     5.0"
            ],
            "text/html": [
              "\n",
              "  <div id=\"df-6d435f2f-0ce7-4308-a8d2-69a1932c49b1\">\n",
              "    <div class=\"colab-df-container\">\n",
              "      <div>\n",
              "<style scoped>\n",
              "    .dataframe tbody tr th:only-of-type {\n",
              "        vertical-align: middle;\n",
              "    }\n",
              "\n",
              "    .dataframe tbody tr th {\n",
              "        vertical-align: top;\n",
              "    }\n",
              "\n",
              "    .dataframe thead th {\n",
              "        text-align: right;\n",
              "    }\n",
              "</style>\n",
              "<table border=\"1\" class=\"dataframe\">\n",
              "  <thead>\n",
              "    <tr style=\"text-align: right;\">\n",
              "      <th></th>\n",
              "      <th>user_id</th>\n",
              "      <th>recipe_id</th>\n",
              "      <th>rating</th>\n",
              "    </tr>\n",
              "  </thead>\n",
              "  <tbody>\n",
              "    <tr>\n",
              "      <th>0</th>\n",
              "      <td>2046</td>\n",
              "      <td>4684</td>\n",
              "      <td>5.0</td>\n",
              "    </tr>\n",
              "    <tr>\n",
              "      <th>1</th>\n",
              "      <td>2046</td>\n",
              "      <td>517</td>\n",
              "      <td>5.0</td>\n",
              "    </tr>\n",
              "    <tr>\n",
              "      <th>2</th>\n",
              "      <td>1773</td>\n",
              "      <td>7435</td>\n",
              "      <td>5.0</td>\n",
              "    </tr>\n",
              "    <tr>\n",
              "      <th>3</th>\n",
              "      <td>1773</td>\n",
              "      <td>278</td>\n",
              "      <td>4.0</td>\n",
              "    </tr>\n",
              "    <tr>\n",
              "      <th>4</th>\n",
              "      <td>2046</td>\n",
              "      <td>3431</td>\n",
              "      <td>5.0</td>\n",
              "    </tr>\n",
              "  </tbody>\n",
              "</table>\n",
              "</div>\n",
              "      <button class=\"colab-df-convert\" onclick=\"convertToInteractive('df-6d435f2f-0ce7-4308-a8d2-69a1932c49b1')\"\n",
              "              title=\"Convert this dataframe to an interactive table.\"\n",
              "              style=\"display:none;\">\n",
              "        \n",
              "  <svg xmlns=\"http://www.w3.org/2000/svg\" height=\"24px\"viewBox=\"0 0 24 24\"\n",
              "       width=\"24px\">\n",
              "    <path d=\"M0 0h24v24H0V0z\" fill=\"none\"/>\n",
              "    <path d=\"M18.56 5.44l.94 2.06.94-2.06 2.06-.94-2.06-.94-.94-2.06-.94 2.06-2.06.94zm-11 1L8.5 8.5l.94-2.06 2.06-.94-2.06-.94L8.5 2.5l-.94 2.06-2.06.94zm10 10l.94 2.06.94-2.06 2.06-.94-2.06-.94-.94-2.06-.94 2.06-2.06.94z\"/><path d=\"M17.41 7.96l-1.37-1.37c-.4-.4-.92-.59-1.43-.59-.52 0-1.04.2-1.43.59L10.3 9.45l-7.72 7.72c-.78.78-.78 2.05 0 2.83L4 21.41c.39.39.9.59 1.41.59.51 0 1.02-.2 1.41-.59l7.78-7.78 2.81-2.81c.8-.78.8-2.07 0-2.86zM5.41 20L4 18.59l7.72-7.72 1.47 1.35L5.41 20z\"/>\n",
              "  </svg>\n",
              "      </button>\n",
              "      \n",
              "  <style>\n",
              "    .colab-df-container {\n",
              "      display:flex;\n",
              "      flex-wrap:wrap;\n",
              "      gap: 12px;\n",
              "    }\n",
              "\n",
              "    .colab-df-convert {\n",
              "      background-color: #E8F0FE;\n",
              "      border: none;\n",
              "      border-radius: 50%;\n",
              "      cursor: pointer;\n",
              "      display: none;\n",
              "      fill: #1967D2;\n",
              "      height: 32px;\n",
              "      padding: 0 0 0 0;\n",
              "      width: 32px;\n",
              "    }\n",
              "\n",
              "    .colab-df-convert:hover {\n",
              "      background-color: #E2EBFA;\n",
              "      box-shadow: 0px 1px 2px rgba(60, 64, 67, 0.3), 0px 1px 3px 1px rgba(60, 64, 67, 0.15);\n",
              "      fill: #174EA6;\n",
              "    }\n",
              "\n",
              "    [theme=dark] .colab-df-convert {\n",
              "      background-color: #3B4455;\n",
              "      fill: #D2E3FC;\n",
              "    }\n",
              "\n",
              "    [theme=dark] .colab-df-convert:hover {\n",
              "      background-color: #434B5C;\n",
              "      box-shadow: 0px 1px 3px 1px rgba(0, 0, 0, 0.15);\n",
              "      filter: drop-shadow(0px 1px 2px rgba(0, 0, 0, 0.3));\n",
              "      fill: #FFFFFF;\n",
              "    }\n",
              "  </style>\n",
              "\n",
              "      <script>\n",
              "        const buttonEl =\n",
              "          document.querySelector('#df-6d435f2f-0ce7-4308-a8d2-69a1932c49b1 button.colab-df-convert');\n",
              "        buttonEl.style.display =\n",
              "          google.colab.kernel.accessAllowed ? 'block' : 'none';\n",
              "\n",
              "        async function convertToInteractive(key) {\n",
              "          const element = document.querySelector('#df-6d435f2f-0ce7-4308-a8d2-69a1932c49b1');\n",
              "          const dataTable =\n",
              "            await google.colab.kernel.invokeFunction('convertToInteractive',\n",
              "                                                     [key], {});\n",
              "          if (!dataTable) return;\n",
              "\n",
              "          const docLinkHtml = 'Like what you see? Visit the ' +\n",
              "            '<a target=\"_blank\" href=https://colab.research.google.com/notebooks/data_table.ipynb>data table notebook</a>'\n",
              "            + ' to learn more about interactive tables.';\n",
              "          element.innerHTML = '';\n",
              "          dataTable['output_type'] = 'display_data';\n",
              "          await google.colab.output.renderOutput(dataTable, element);\n",
              "          const docLink = document.createElement('div');\n",
              "          docLink.innerHTML = docLinkHtml;\n",
              "          element.appendChild(docLink);\n",
              "        }\n",
              "      </script>\n",
              "    </div>\n",
              "  </div>\n",
              "  "
            ]
          },
          "metadata": {},
          "execution_count": 8
        }
      ],
      "source": [
        "# Delete 'date' column from df_interactions_train\n",
        "ratings = ratings.drop(['date'], axis=1)\n",
        "ratings.head(5)"
      ]
    },
    {
      "cell_type": "code",
      "execution_count": 9,
      "metadata": {
        "colab": {
          "base_uri": "https://localhost:8080/"
        },
        "id": "XP4U87wXdpA2",
        "outputId": "6c339b41-4807-4752-c40a-88079b746771"
      },
      "outputs": [
        {
          "output_type": "execute_result",
          "data": {
            "text/plain": [
              "25076"
            ]
          },
          "metadata": {},
          "execution_count": 9
        }
      ],
      "source": [
        "nombre_utilisateurs = ratings['user_id'].nunique()\n",
        "nombre_utilisateurs"
      ]
    },
    {
      "cell_type": "code",
      "execution_count": 10,
      "metadata": {
        "id": "ClPqWARndpA3"
      },
      "outputs": [],
      "source": [
        "# Calculate the number of votes per recipe\n",
        "recipe_votes = ratings.groupby('recipe_id')['rating'].count()\n",
        "\n",
        "# Sort recipes by the number of votes in descending order\n",
        "top_rated_recipes = recipe_votes.sort_values(ascending=False)\n",
        "\n",
        "# Select the top 200 rated recipes\n",
        "top_200_recipes = top_rated_recipes.head(200)\n",
        "\n",
        "# Calculate the number of votes per user\n",
        "user_votes = ratings.groupby('user_id')['rating'].count()\n",
        "\n",
        "# Sort users by the number of votes in descending order\n",
        "top_voting_users = user_votes.sort_values(ascending=False)\n",
        "\n",
        "# Select the top 4000 voting users\n",
        "top_200_users = top_voting_users.head(4000)\n",
        "\n",
        "# Filter the ratings DataFrame based on the selected recipes and users\n",
        "trainset = ratings[\n",
        "    ratings['recipe_id'].isin(top_200_recipes.index) &\n",
        "    ratings['user_id'].isin(top_200_users.index)\n",
        "]\n"
      ]
    },
    {
      "cell_type": "code",
      "execution_count": 11,
      "metadata": {
        "colab": {
          "base_uri": "https://localhost:8080/"
        },
        "id": "t_1ZmEZfdpA3",
        "outputId": "7add374f-3fa1-4b72-98f1-e40b01809bd2"
      },
      "outputs": [
        {
          "output_type": "execute_result",
          "data": {
            "text/plain": [
              "(29900, 3)"
            ]
          },
          "metadata": {},
          "execution_count": 11
        }
      ],
      "source": [
        "trainset.shape"
      ]
    },
    {
      "cell_type": "code",
      "execution_count": 39,
      "metadata": {
        "colab": {
          "base_uri": "https://localhost:8080/"
        },
        "id": "udTCKvOfdpA4",
        "outputId": "af8fe9d4-fc97-40c5-a52d-3135e33d282f"
      },
      "outputs": [
        {
          "output_type": "execute_result",
          "data": {
            "text/plain": [
              "(12455, 3)"
            ]
          },
          "metadata": {},
          "execution_count": 39
        }
      ],
      "source": [
        "# testset = df_interactions_test.drop(['date'], axis=1)\n",
        "# testset.shape"
      ]
    },
    {
      "cell_type": "code",
      "source": [
        "# testset = testset[testset['user_id'].isin(trainset['user_id']) & testset['recipe_id'].isin(trainset['recipe_id'])]\n"
      ],
      "metadata": {
        "id": "3Quk5Z6EiAXK"
      },
      "execution_count": 40,
      "outputs": []
    },
    {
      "cell_type": "code",
      "source": [
        "test_ratio = 0.2\n",
        "testset = trainset.copy()\n",
        "test_size = int(len(trainset) * test_ratio)  # Set the desired size of the test set\n",
        "testset = testset.sample(test_size, replace=False, random_state=42)  # Randomly sample the test set"
      ],
      "metadata": {
        "id": "aL1qzpwViBcP"
      },
      "execution_count": 42,
      "outputs": []
    },
    {
      "cell_type": "code",
      "source": [
        "assert set(testset.user_id.unique()).issubset(trainset.user_id.unique())\n",
        "assert set(testset.recipe_id.unique()).issubset(trainset.recipe_id.unique())"
      ],
      "metadata": {
        "id": "EfPftfvrhYm4"
      },
      "execution_count": 43,
      "outputs": []
    },
    {
      "cell_type": "markdown",
      "metadata": {
        "id": "Ezkj_lupdpA5"
      },
      "source": [
        "# Model"
      ]
    },
    {
      "cell_type": "code",
      "execution_count": 44,
      "metadata": {
        "id": "QeR9qXxYdpA5"
      },
      "outputs": [],
      "source": [
        "import torch\n",
        "from torch.utils.data import Dataset, DataLoader\n",
        "import torch.nn as nn\n",
        "from statistics import mean"
      ]
    },
    {
      "cell_type": "code",
      "execution_count": 45,
      "metadata": {
        "id": "HkHTG-IGdpA5"
      },
      "outputs": [],
      "source": [
        "user_list = trainset.user_id.unique()\n",
        "item_list = trainset.recipe_id.unique()\n",
        "user2id = {w: i for i, w in enumerate(user_list)}\n",
        "item2id = {w: i for i, w in enumerate(item_list)}"
      ]
    },
    {
      "cell_type": "code",
      "execution_count": 46,
      "metadata": {
        "id": "zvr7n8BedpA5"
      },
      "outputs": [],
      "source": [
        "class Ratings_Datset(Dataset):\n",
        "    def __init__(self, df):\n",
        "        self.df = df.reset_index()\n",
        "\n",
        "    def __len__(self):\n",
        "        return len(self.df)\n",
        "\n",
        "    def __getitem__(self, idx):\n",
        "        user = user2id[self.df['user_id'][idx]]\n",
        "        user = torch.tensor(user, dtype=torch.long)\n",
        "        item = item2id[self.df['recipe_id'][idx]]\n",
        "        item = torch.tensor(item, dtype=torch.long)\n",
        "        rating = torch.tensor(self.df['rating'][idx], dtype=torch.float)\n",
        "        return user, item, rating\n",
        "\n",
        "\n",
        "trainloader = DataLoader(Ratings_Datset(trainset), batch_size=512, shuffle=True ,num_workers=2)\n",
        "testloader = DataLoader(Ratings_Datset(testset), batch_size=64, num_workers=2)"
      ]
    },
    {
      "cell_type": "code",
      "execution_count": 47,
      "metadata": {
        "id": "AvoIoLYTdpA6"
      },
      "outputs": [],
      "source": [
        "class NCF(nn.Module):\n",
        "\n",
        "    def __init__(self, n_users, n_items, n_factors=8):\n",
        "        super().__init__()\n",
        "        self.user_embeddings = torch.nn.Embedding(n_users, n_factors)\n",
        "        self.item_embeddings = torch.nn.Embedding(n_items, n_factors)\n",
        "        self.predictor = torch.nn.Sequential(\n",
        "            nn.Linear(in_features=n_factors*2, out_features=64),\n",
        "            nn.Linear(in_features=64, out_features=32),\n",
        "            nn.Linear(in_features=32, out_features=1),\n",
        "            nn.Sigmoid()\n",
        "        )\n",
        "\n",
        "\n",
        "    def forward(self, user, item):\n",
        "\n",
        "\n",
        "        u = self.user_embeddings(user)\n",
        "        i = self.item_embeddings(item)\n",
        "\n",
        "        # Concat the two embedding layers\n",
        "        z = torch.cat([u, i], dim=-1)\n",
        "        return self.predictor(z)"
      ]
    },
    {
      "cell_type": "markdown",
      "metadata": {
        "id": "5tJjWGefdpA6"
      },
      "source": [
        "# Training and test procedures"
      ]
    },
    {
      "cell_type": "code",
      "execution_count": 48,
      "metadata": {
        "id": "XEpFFuEVdpA6"
      },
      "outputs": [],
      "source": [
        "from tqdm.notebook import tqdm\n",
        "import torch\n",
        "import torch.nn as nn\n",
        "from statistics import mean\n",
        "import math\n",
        "\n",
        "\n",
        "def train(model, optimizer, trainloader, epochs=30):\n",
        "    criterion = nn.MSELoss(reduction='mean')\n",
        "    t = tqdm(range(epochs))\n",
        "    for epoch in t:\n",
        "        corrects = 0\n",
        "        total = 0\n",
        "        train_loss = []\n",
        "        for users, items, r in trainloader:\n",
        "            users = users.cuda()\n",
        "            items = items.cuda()\n",
        "            r = r.cuda() / 5\n",
        "            y_hat = model(users, items)\n",
        "            loss = criterion(y_hat, r.unsqueeze(1).float())\n",
        "            train_loss.append(loss.item())\n",
        "            total += r.size(0)\n",
        "            optimizer.zero_grad()\n",
        "            loss.backward()\n",
        "            optimizer.step()\n",
        "            t.set_description(f\"loss: {mean(train_loss)}\")\n",
        "\n",
        "\n",
        "def test(model, testloader, m_eval=False):\n",
        "    running_mae = 0\n",
        "    with torch.no_grad():\n",
        "        corrects = 0\n",
        "        total = 0\n",
        "        for users, items, r in testloader:\n",
        "            users = users.cuda()\n",
        "            items = items.cuda()\n",
        "            y = r.cuda() / 5\n",
        "            y_hat = model(users, items).flatten()\n",
        "            error = torch.abs(y_hat - y).sum().data\n",
        "\n",
        "            running_mae += error\n",
        "            total += y.size(0)\n",
        "\n",
        "    mae = running_mae/total\n",
        "    return mae * 5"
      ]
    },
    {
      "cell_type": "markdown",
      "metadata": {
        "id": "ryOKsoV4dpA6"
      },
      "source": [
        "# Model training"
      ]
    },
    {
      "cell_type": "code",
      "execution_count": 49,
      "metadata": {
        "colab": {
          "base_uri": "https://localhost:8080/",
          "height": 49,
          "referenced_widgets": [
            "6bdc8cbf3a634ef8a31490190be64192",
            "c55f84467d7f4adeb406a093ae237896",
            "8520c7db7ced438183de02842059769d",
            "4a2cece3962842d98d298cccfc24bece",
            "27364d0f62c54bf8aaeef9502e2a082d",
            "65dd963751ec4b3b9a62a4a9679379c1",
            "ba78f23ccb3f4b4a907b28bb7c807ab4",
            "93cec1271a2e41b4ac2fab5de0c678dd",
            "ff8f44010dbf4cc9b62c4bc4193b4ca9",
            "b630b6ac74404ffcb066a1d2249a4a82",
            "0c94441a27e04f39ade0d3eb5b4afbc9"
          ]
        },
        "id": "V7vTGHzMdpA6",
        "outputId": "591103c5-71ee-4462-e16d-57f6b5c9b0db"
      },
      "outputs": [
        {
          "output_type": "display_data",
          "data": {
            "text/plain": [
              "  0%|          | 0/5 [00:00<?, ?it/s]"
            ],
            "application/vnd.jupyter.widget-view+json": {
              "version_major": 2,
              "version_minor": 0,
              "model_id": "6bdc8cbf3a634ef8a31490190be64192"
            }
          },
          "metadata": {}
        }
      ],
      "source": [
        "n_users = trainset['user_id'].nunique()\n",
        "n_items = trainset['recipe_id'].nunique()\n",
        "model = NCF(n_users, n_items).cuda()\n",
        "optimizer = torch.optim.Adam(model.parameters(), lr=1e-3)\n",
        "train(model, optimizer, trainloader, epochs=5)\n"
      ]
    },
    {
      "cell_type": "markdown",
      "metadata": {
        "id": "oaTR4Uu5dpA7"
      },
      "source": [
        "# Model Testing"
      ]
    },
    {
      "cell_type": "code",
      "execution_count": 50,
      "metadata": {
        "colab": {
          "base_uri": "https://localhost:8080/"
        },
        "id": "REg6A2agdpA7",
        "outputId": "65db1c3b-6a66-4ec6-80d3-d04c504e1292"
      },
      "outputs": [
        {
          "output_type": "execute_result",
          "data": {
            "text/plain": [
              "tensor(0.5823, device='cuda:0')"
            ]
          },
          "metadata": {},
          "execution_count": 50
        }
      ],
      "source": [
        "test(model, testloader)"
      ]
    },
    {
      "cell_type": "code",
      "execution_count": 51,
      "metadata": {
        "colab": {
          "base_uri": "https://localhost:8080/"
        },
        "id": "WSw3CPWddpA7",
        "outputId": "f86d3556-4fe2-4aed-9da2-7f2b9405d6c0"
      },
      "outputs": [
        {
          "output_type": "stream",
          "name": "stdout",
          "text": [
            "ratings tensor([5., 5., 5., 5., 5., 5., 4., 5., 5., 5.], device='cuda:0')\n",
            "predictions: tensor([4.5461, 4.7016, 4.7616, 4.6514, 4.5324, 4.5484, 4.6179, 4.6419, 4.7085,\n",
            "        4.7034], device='cuda:0')\n"
          ]
        }
      ],
      "source": [
        "users, recipes, r = next(iter(testloader))\n",
        "users = users.cuda()\n",
        "recipes = recipes.cuda()\n",
        "r = r.cuda()\n",
        "\n",
        "y = model(users, recipes)*5\n",
        "print(\"ratings\", r[:10].data)\n",
        "print(\"predictions:\", y.flatten()[:10].data)"
      ]
    },
    {
      "cell_type": "markdown",
      "source": [
        "# Model weights submit"
      ],
      "metadata": {
        "id": "A99GlMXMjlmK"
      }
    },
    {
      "cell_type": "code",
      "source": [
        "torch.save(model.state_dict(), 'NCF_model_weights.pth')"
      ],
      "metadata": {
        "id": "qA2Rn2_UjpIl"
      },
      "execution_count": 52,
      "outputs": []
    }
  ],
  "metadata": {
    "kernelspec": {
      "display_name": "Python 3",
      "name": "python3"
    },
    "language_info": {
      "codemirror_mode": {
        "name": "ipython",
        "version": 3
      },
      "file_extension": ".py",
      "mimetype": "text/x-python",
      "name": "python",
      "nbconvert_exporter": "python",
      "pygments_lexer": "ipython3",
      "version": "3.10.9"
    },
    "orig_nbformat": 4,
    "colab": {
      "provenance": [],
      "gpuType": "T4"
    },
    "accelerator": "GPU",
    "widgets": {
      "application/vnd.jupyter.widget-state+json": {
        "6bdc8cbf3a634ef8a31490190be64192": {
          "model_module": "@jupyter-widgets/controls",
          "model_name": "HBoxModel",
          "model_module_version": "1.5.0",
          "state": {
            "_dom_classes": [],
            "_model_module": "@jupyter-widgets/controls",
            "_model_module_version": "1.5.0",
            "_model_name": "HBoxModel",
            "_view_count": null,
            "_view_module": "@jupyter-widgets/controls",
            "_view_module_version": "1.5.0",
            "_view_name": "HBoxView",
            "box_style": "",
            "children": [
              "IPY_MODEL_c55f84467d7f4adeb406a093ae237896",
              "IPY_MODEL_8520c7db7ced438183de02842059769d",
              "IPY_MODEL_4a2cece3962842d98d298cccfc24bece"
            ],
            "layout": "IPY_MODEL_27364d0f62c54bf8aaeef9502e2a082d"
          }
        },
        "c55f84467d7f4adeb406a093ae237896": {
          "model_module": "@jupyter-widgets/controls",
          "model_name": "HTMLModel",
          "model_module_version": "1.5.0",
          "state": {
            "_dom_classes": [],
            "_model_module": "@jupyter-widgets/controls",
            "_model_module_version": "1.5.0",
            "_model_name": "HTMLModel",
            "_view_count": null,
            "_view_module": "@jupyter-widgets/controls",
            "_view_module_version": "1.5.0",
            "_view_name": "HTMLView",
            "description": "",
            "description_tooltip": null,
            "layout": "IPY_MODEL_65dd963751ec4b3b9a62a4a9679379c1",
            "placeholder": "​",
            "style": "IPY_MODEL_ba78f23ccb3f4b4a907b28bb7c807ab4",
            "value": "loss: 0.03303678889395827: 100%"
          }
        },
        "8520c7db7ced438183de02842059769d": {
          "model_module": "@jupyter-widgets/controls",
          "model_name": "FloatProgressModel",
          "model_module_version": "1.5.0",
          "state": {
            "_dom_classes": [],
            "_model_module": "@jupyter-widgets/controls",
            "_model_module_version": "1.5.0",
            "_model_name": "FloatProgressModel",
            "_view_count": null,
            "_view_module": "@jupyter-widgets/controls",
            "_view_module_version": "1.5.0",
            "_view_name": "ProgressView",
            "bar_style": "success",
            "description": "",
            "description_tooltip": null,
            "layout": "IPY_MODEL_93cec1271a2e41b4ac2fab5de0c678dd",
            "max": 5,
            "min": 0,
            "orientation": "horizontal",
            "style": "IPY_MODEL_ff8f44010dbf4cc9b62c4bc4193b4ca9",
            "value": 5
          }
        },
        "4a2cece3962842d98d298cccfc24bece": {
          "model_module": "@jupyter-widgets/controls",
          "model_name": "HTMLModel",
          "model_module_version": "1.5.0",
          "state": {
            "_dom_classes": [],
            "_model_module": "@jupyter-widgets/controls",
            "_model_module_version": "1.5.0",
            "_model_name": "HTMLModel",
            "_view_count": null,
            "_view_module": "@jupyter-widgets/controls",
            "_view_module_version": "1.5.0",
            "_view_name": "HTMLView",
            "description": "",
            "description_tooltip": null,
            "layout": "IPY_MODEL_b630b6ac74404ffcb066a1d2249a4a82",
            "placeholder": "​",
            "style": "IPY_MODEL_0c94441a27e04f39ade0d3eb5b4afbc9",
            "value": " 5/5 [00:08&lt;00:00,  1.73s/it]"
          }
        },
        "27364d0f62c54bf8aaeef9502e2a082d": {
          "model_module": "@jupyter-widgets/base",
          "model_name": "LayoutModel",
          "model_module_version": "1.2.0",
          "state": {
            "_model_module": "@jupyter-widgets/base",
            "_model_module_version": "1.2.0",
            "_model_name": "LayoutModel",
            "_view_count": null,
            "_view_module": "@jupyter-widgets/base",
            "_view_module_version": "1.2.0",
            "_view_name": "LayoutView",
            "align_content": null,
            "align_items": null,
            "align_self": null,
            "border": null,
            "bottom": null,
            "display": null,
            "flex": null,
            "flex_flow": null,
            "grid_area": null,
            "grid_auto_columns": null,
            "grid_auto_flow": null,
            "grid_auto_rows": null,
            "grid_column": null,
            "grid_gap": null,
            "grid_row": null,
            "grid_template_areas": null,
            "grid_template_columns": null,
            "grid_template_rows": null,
            "height": null,
            "justify_content": null,
            "justify_items": null,
            "left": null,
            "margin": null,
            "max_height": null,
            "max_width": null,
            "min_height": null,
            "min_width": null,
            "object_fit": null,
            "object_position": null,
            "order": null,
            "overflow": null,
            "overflow_x": null,
            "overflow_y": null,
            "padding": null,
            "right": null,
            "top": null,
            "visibility": null,
            "width": null
          }
        },
        "65dd963751ec4b3b9a62a4a9679379c1": {
          "model_module": "@jupyter-widgets/base",
          "model_name": "LayoutModel",
          "model_module_version": "1.2.0",
          "state": {
            "_model_module": "@jupyter-widgets/base",
            "_model_module_version": "1.2.0",
            "_model_name": "LayoutModel",
            "_view_count": null,
            "_view_module": "@jupyter-widgets/base",
            "_view_module_version": "1.2.0",
            "_view_name": "LayoutView",
            "align_content": null,
            "align_items": null,
            "align_self": null,
            "border": null,
            "bottom": null,
            "display": null,
            "flex": null,
            "flex_flow": null,
            "grid_area": null,
            "grid_auto_columns": null,
            "grid_auto_flow": null,
            "grid_auto_rows": null,
            "grid_column": null,
            "grid_gap": null,
            "grid_row": null,
            "grid_template_areas": null,
            "grid_template_columns": null,
            "grid_template_rows": null,
            "height": null,
            "justify_content": null,
            "justify_items": null,
            "left": null,
            "margin": null,
            "max_height": null,
            "max_width": null,
            "min_height": null,
            "min_width": null,
            "object_fit": null,
            "object_position": null,
            "order": null,
            "overflow": null,
            "overflow_x": null,
            "overflow_y": null,
            "padding": null,
            "right": null,
            "top": null,
            "visibility": null,
            "width": null
          }
        },
        "ba78f23ccb3f4b4a907b28bb7c807ab4": {
          "model_module": "@jupyter-widgets/controls",
          "model_name": "DescriptionStyleModel",
          "model_module_version": "1.5.0",
          "state": {
            "_model_module": "@jupyter-widgets/controls",
            "_model_module_version": "1.5.0",
            "_model_name": "DescriptionStyleModel",
            "_view_count": null,
            "_view_module": "@jupyter-widgets/base",
            "_view_module_version": "1.2.0",
            "_view_name": "StyleView",
            "description_width": ""
          }
        },
        "93cec1271a2e41b4ac2fab5de0c678dd": {
          "model_module": "@jupyter-widgets/base",
          "model_name": "LayoutModel",
          "model_module_version": "1.2.0",
          "state": {
            "_model_module": "@jupyter-widgets/base",
            "_model_module_version": "1.2.0",
            "_model_name": "LayoutModel",
            "_view_count": null,
            "_view_module": "@jupyter-widgets/base",
            "_view_module_version": "1.2.0",
            "_view_name": "LayoutView",
            "align_content": null,
            "align_items": null,
            "align_self": null,
            "border": null,
            "bottom": null,
            "display": null,
            "flex": null,
            "flex_flow": null,
            "grid_area": null,
            "grid_auto_columns": null,
            "grid_auto_flow": null,
            "grid_auto_rows": null,
            "grid_column": null,
            "grid_gap": null,
            "grid_row": null,
            "grid_template_areas": null,
            "grid_template_columns": null,
            "grid_template_rows": null,
            "height": null,
            "justify_content": null,
            "justify_items": null,
            "left": null,
            "margin": null,
            "max_height": null,
            "max_width": null,
            "min_height": null,
            "min_width": null,
            "object_fit": null,
            "object_position": null,
            "order": null,
            "overflow": null,
            "overflow_x": null,
            "overflow_y": null,
            "padding": null,
            "right": null,
            "top": null,
            "visibility": null,
            "width": null
          }
        },
        "ff8f44010dbf4cc9b62c4bc4193b4ca9": {
          "model_module": "@jupyter-widgets/controls",
          "model_name": "ProgressStyleModel",
          "model_module_version": "1.5.0",
          "state": {
            "_model_module": "@jupyter-widgets/controls",
            "_model_module_version": "1.5.0",
            "_model_name": "ProgressStyleModel",
            "_view_count": null,
            "_view_module": "@jupyter-widgets/base",
            "_view_module_version": "1.2.0",
            "_view_name": "StyleView",
            "bar_color": null,
            "description_width": ""
          }
        },
        "b630b6ac74404ffcb066a1d2249a4a82": {
          "model_module": "@jupyter-widgets/base",
          "model_name": "LayoutModel",
          "model_module_version": "1.2.0",
          "state": {
            "_model_module": "@jupyter-widgets/base",
            "_model_module_version": "1.2.0",
            "_model_name": "LayoutModel",
            "_view_count": null,
            "_view_module": "@jupyter-widgets/base",
            "_view_module_version": "1.2.0",
            "_view_name": "LayoutView",
            "align_content": null,
            "align_items": null,
            "align_self": null,
            "border": null,
            "bottom": null,
            "display": null,
            "flex": null,
            "flex_flow": null,
            "grid_area": null,
            "grid_auto_columns": null,
            "grid_auto_flow": null,
            "grid_auto_rows": null,
            "grid_column": null,
            "grid_gap": null,
            "grid_row": null,
            "grid_template_areas": null,
            "grid_template_columns": null,
            "grid_template_rows": null,
            "height": null,
            "justify_content": null,
            "justify_items": null,
            "left": null,
            "margin": null,
            "max_height": null,
            "max_width": null,
            "min_height": null,
            "min_width": null,
            "object_fit": null,
            "object_position": null,
            "order": null,
            "overflow": null,
            "overflow_x": null,
            "overflow_y": null,
            "padding": null,
            "right": null,
            "top": null,
            "visibility": null,
            "width": null
          }
        },
        "0c94441a27e04f39ade0d3eb5b4afbc9": {
          "model_module": "@jupyter-widgets/controls",
          "model_name": "DescriptionStyleModel",
          "model_module_version": "1.5.0",
          "state": {
            "_model_module": "@jupyter-widgets/controls",
            "_model_module_version": "1.5.0",
            "_model_name": "DescriptionStyleModel",
            "_view_count": null,
            "_view_module": "@jupyter-widgets/base",
            "_view_module_version": "1.2.0",
            "_view_name": "StyleView",
            "description_width": ""
          }
        }
      }
    }
  },
  "nbformat": 4,
  "nbformat_minor": 0
}