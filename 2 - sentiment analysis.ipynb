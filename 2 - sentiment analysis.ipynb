{
 "cells": [
  {
   "cell_type": "code",
   "execution_count": 2,
   "metadata": {
    "collapsed": true
   },
   "outputs": [],
   "source": [
    "import pandas as pd"
   ]
  },
  {
   "cell_type": "code",
   "execution_count": 3,
   "outputs": [],
   "source": [
    "# import of data\n",
    "interactions_test = pd.read_csv(\"./data/interactions_test.csv\")\n",
    "interactions_train = pd.read_csv(\"./data/interactions_train.csv\")\n",
    "raw_interactions = pd.read_csv(\"./data/RAW_interactions.csv\")\n",
    "raw_recipes = pd.read_csv(\"./data/raw_recipes.csv\")"
   ],
   "metadata": {
    "collapsed": false
   }
  },
  {
   "cell_type": "code",
   "execution_count": 4,
   "outputs": [
    {
     "data": {
      "text/plain": "   user_id  recipe_id        date  rating   u       i\n0     8937      44551  2005-12-23     4.0   2  173538\n1    56680     126118  2006-10-07     4.0  16  177847\n2   349752     219596  2008-04-12     0.0  26   89896\n3   628951      82783  2007-11-13     2.0  45  172637\n4    92816     435013  2013-07-31     3.0  52  177935",
      "text/html": "<div>\n<style scoped>\n    .dataframe tbody tr th:only-of-type {\n        vertical-align: middle;\n    }\n\n    .dataframe tbody tr th {\n        vertical-align: top;\n    }\n\n    .dataframe thead th {\n        text-align: right;\n    }\n</style>\n<table border=\"1\" class=\"dataframe\">\n  <thead>\n    <tr style=\"text-align: right;\">\n      <th></th>\n      <th>user_id</th>\n      <th>recipe_id</th>\n      <th>date</th>\n      <th>rating</th>\n      <th>u</th>\n      <th>i</th>\n    </tr>\n  </thead>\n  <tbody>\n    <tr>\n      <th>0</th>\n      <td>8937</td>\n      <td>44551</td>\n      <td>2005-12-23</td>\n      <td>4.0</td>\n      <td>2</td>\n      <td>173538</td>\n    </tr>\n    <tr>\n      <th>1</th>\n      <td>56680</td>\n      <td>126118</td>\n      <td>2006-10-07</td>\n      <td>4.0</td>\n      <td>16</td>\n      <td>177847</td>\n    </tr>\n    <tr>\n      <th>2</th>\n      <td>349752</td>\n      <td>219596</td>\n      <td>2008-04-12</td>\n      <td>0.0</td>\n      <td>26</td>\n      <td>89896</td>\n    </tr>\n    <tr>\n      <th>3</th>\n      <td>628951</td>\n      <td>82783</td>\n      <td>2007-11-13</td>\n      <td>2.0</td>\n      <td>45</td>\n      <td>172637</td>\n    </tr>\n    <tr>\n      <th>4</th>\n      <td>92816</td>\n      <td>435013</td>\n      <td>2013-07-31</td>\n      <td>3.0</td>\n      <td>52</td>\n      <td>177935</td>\n    </tr>\n  </tbody>\n</table>\n</div>"
     },
     "metadata": {},
     "output_type": "display_data"
    },
    {
     "data": {
      "text/plain": "   user_id  recipe_id        date  rating      u       i\n0     2046       4684  2000-02-25     5.0  22095   44367\n1     2046        517  2000-02-25     5.0  22095   87844\n2     1773       7435  2000-03-13     5.0  24732  138181\n3     1773        278  2000-03-13     4.0  24732   93054\n4     2046       3431  2000-04-07     5.0  22095  101723",
      "text/html": "<div>\n<style scoped>\n    .dataframe tbody tr th:only-of-type {\n        vertical-align: middle;\n    }\n\n    .dataframe tbody tr th {\n        vertical-align: top;\n    }\n\n    .dataframe thead th {\n        text-align: right;\n    }\n</style>\n<table border=\"1\" class=\"dataframe\">\n  <thead>\n    <tr style=\"text-align: right;\">\n      <th></th>\n      <th>user_id</th>\n      <th>recipe_id</th>\n      <th>date</th>\n      <th>rating</th>\n      <th>u</th>\n      <th>i</th>\n    </tr>\n  </thead>\n  <tbody>\n    <tr>\n      <th>0</th>\n      <td>2046</td>\n      <td>4684</td>\n      <td>2000-02-25</td>\n      <td>5.0</td>\n      <td>22095</td>\n      <td>44367</td>\n    </tr>\n    <tr>\n      <th>1</th>\n      <td>2046</td>\n      <td>517</td>\n      <td>2000-02-25</td>\n      <td>5.0</td>\n      <td>22095</td>\n      <td>87844</td>\n    </tr>\n    <tr>\n      <th>2</th>\n      <td>1773</td>\n      <td>7435</td>\n      <td>2000-03-13</td>\n      <td>5.0</td>\n      <td>24732</td>\n      <td>138181</td>\n    </tr>\n    <tr>\n      <th>3</th>\n      <td>1773</td>\n      <td>278</td>\n      <td>2000-03-13</td>\n      <td>4.0</td>\n      <td>24732</td>\n      <td>93054</td>\n    </tr>\n    <tr>\n      <th>4</th>\n      <td>2046</td>\n      <td>3431</td>\n      <td>2000-04-07</td>\n      <td>5.0</td>\n      <td>22095</td>\n      <td>101723</td>\n    </tr>\n  </tbody>\n</table>\n</div>"
     },
     "metadata": {},
     "output_type": "display_data"
    },
    {
     "data": {
      "text/plain": "   user_id  recipe_id        date  rating  \\\n0    38094      40893  2003-02-17       4   \n1  1293707      40893  2011-12-21       5   \n2     8937      44394  2002-12-01       4   \n3   126440      85009  2010-02-27       5   \n4    57222      85009  2011-10-01       5   \n\n                                              review  \n0  Great with a salad. Cooked on top of stove for...  \n1  So simple, so delicious! Great for chilly fall...  \n2  This worked very well and is EASY.  I used not...  \n3  I made the Mexican topping and took it to bunk...  \n4  Made the cheddar bacon topping, adding a sprin...  ",
      "text/html": "<div>\n<style scoped>\n    .dataframe tbody tr th:only-of-type {\n        vertical-align: middle;\n    }\n\n    .dataframe tbody tr th {\n        vertical-align: top;\n    }\n\n    .dataframe thead th {\n        text-align: right;\n    }\n</style>\n<table border=\"1\" class=\"dataframe\">\n  <thead>\n    <tr style=\"text-align: right;\">\n      <th></th>\n      <th>user_id</th>\n      <th>recipe_id</th>\n      <th>date</th>\n      <th>rating</th>\n      <th>review</th>\n    </tr>\n  </thead>\n  <tbody>\n    <tr>\n      <th>0</th>\n      <td>38094</td>\n      <td>40893</td>\n      <td>2003-02-17</td>\n      <td>4</td>\n      <td>Great with a salad. Cooked on top of stove for...</td>\n    </tr>\n    <tr>\n      <th>1</th>\n      <td>1293707</td>\n      <td>40893</td>\n      <td>2011-12-21</td>\n      <td>5</td>\n      <td>So simple, so delicious! Great for chilly fall...</td>\n    </tr>\n    <tr>\n      <th>2</th>\n      <td>8937</td>\n      <td>44394</td>\n      <td>2002-12-01</td>\n      <td>4</td>\n      <td>This worked very well and is EASY.  I used not...</td>\n    </tr>\n    <tr>\n      <th>3</th>\n      <td>126440</td>\n      <td>85009</td>\n      <td>2010-02-27</td>\n      <td>5</td>\n      <td>I made the Mexican topping and took it to bunk...</td>\n    </tr>\n    <tr>\n      <th>4</th>\n      <td>57222</td>\n      <td>85009</td>\n      <td>2011-10-01</td>\n      <td>5</td>\n      <td>Made the cheddar bacon topping, adding a sprin...</td>\n    </tr>\n  </tbody>\n</table>\n</div>"
     },
     "metadata": {},
     "output_type": "display_data"
    },
    {
     "data": {
      "text/plain": "                                         name      id  minutes  \\\n0  arriba   baked winter squash mexican style  137739       55   \n1            a bit different  breakfast pizza   31490       30   \n2                   all in the kitchen  chili  112140      130   \n3                          alouette  potatoes   59389       45   \n4          amish  tomato ketchup  for canning   44061      190   \n\n   contributor_id   submitted  \\\n0           47892  2005-09-16   \n1           26278  2002-06-17   \n2          196586  2005-02-25   \n3           68585  2003-04-14   \n4           41706  2002-10-25   \n\n                                                tags  \\\n0  ['60-minutes-or-less', 'time-to-make', 'course...   \n1  ['30-minutes-or-less', 'time-to-make', 'course...   \n2  ['time-to-make', 'course', 'preparation', 'mai...   \n3  ['60-minutes-or-less', 'time-to-make', 'course...   \n4  ['weeknight', 'time-to-make', 'course', 'main-...   \n\n                                    nutrition  n_steps  \\\n0       [51.5, 0.0, 13.0, 0.0, 2.0, 0.0, 4.0]       11   \n1   [173.4, 18.0, 0.0, 17.0, 22.0, 35.0, 1.0]        9   \n2  [269.8, 22.0, 32.0, 48.0, 39.0, 27.0, 5.0]        6   \n3   [368.1, 17.0, 10.0, 2.0, 14.0, 8.0, 20.0]       11   \n4   [352.9, 1.0, 337.0, 23.0, 3.0, 0.0, 28.0]        5   \n\n                                               steps  \\\n0  ['make a choice and proceed with recipe', 'dep...   \n1  ['preheat oven to 425 degrees f', 'press dough...   \n2  ['brown ground beef in large pot', 'add choppe...   \n3  ['place potatoes in a large pot of lightly sal...   \n4  ['mix all ingredients& boil for 2 1 / 2 hours ...   \n\n                                         description  \\\n0  autumn is my favorite time of year to cook! th...   \n1  this recipe calls for the crust to be prebaked...   \n2  this modified version of 'mom's' chili was a h...   \n3  this is a super easy, great tasting, make ahea...   \n4  my dh's amish mother raised him on this recipe...   \n\n                                         ingredients  n_ingredients  \n0  ['winter squash', 'mexican seasoning', 'mixed ...              7  \n1  ['prepared pizza crust', 'sausage patty', 'egg...              6  \n2  ['ground beef', 'yellow onions', 'diced tomato...             13  \n3  ['spreadable cheese with garlic and herbs', 'n...             11  \n4  ['tomato juice', 'apple cider vinegar', 'sugar...              8  ",
      "text/html": "<div>\n<style scoped>\n    .dataframe tbody tr th:only-of-type {\n        vertical-align: middle;\n    }\n\n    .dataframe tbody tr th {\n        vertical-align: top;\n    }\n\n    .dataframe thead th {\n        text-align: right;\n    }\n</style>\n<table border=\"1\" class=\"dataframe\">\n  <thead>\n    <tr style=\"text-align: right;\">\n      <th></th>\n      <th>name</th>\n      <th>id</th>\n      <th>minutes</th>\n      <th>contributor_id</th>\n      <th>submitted</th>\n      <th>tags</th>\n      <th>nutrition</th>\n      <th>n_steps</th>\n      <th>steps</th>\n      <th>description</th>\n      <th>ingredients</th>\n      <th>n_ingredients</th>\n    </tr>\n  </thead>\n  <tbody>\n    <tr>\n      <th>0</th>\n      <td>arriba   baked winter squash mexican style</td>\n      <td>137739</td>\n      <td>55</td>\n      <td>47892</td>\n      <td>2005-09-16</td>\n      <td>['60-minutes-or-less', 'time-to-make', 'course...</td>\n      <td>[51.5, 0.0, 13.0, 0.0, 2.0, 0.0, 4.0]</td>\n      <td>11</td>\n      <td>['make a choice and proceed with recipe', 'dep...</td>\n      <td>autumn is my favorite time of year to cook! th...</td>\n      <td>['winter squash', 'mexican seasoning', 'mixed ...</td>\n      <td>7</td>\n    </tr>\n    <tr>\n      <th>1</th>\n      <td>a bit different  breakfast pizza</td>\n      <td>31490</td>\n      <td>30</td>\n      <td>26278</td>\n      <td>2002-06-17</td>\n      <td>['30-minutes-or-less', 'time-to-make', 'course...</td>\n      <td>[173.4, 18.0, 0.0, 17.0, 22.0, 35.0, 1.0]</td>\n      <td>9</td>\n      <td>['preheat oven to 425 degrees f', 'press dough...</td>\n      <td>this recipe calls for the crust to be prebaked...</td>\n      <td>['prepared pizza crust', 'sausage patty', 'egg...</td>\n      <td>6</td>\n    </tr>\n    <tr>\n      <th>2</th>\n      <td>all in the kitchen  chili</td>\n      <td>112140</td>\n      <td>130</td>\n      <td>196586</td>\n      <td>2005-02-25</td>\n      <td>['time-to-make', 'course', 'preparation', 'mai...</td>\n      <td>[269.8, 22.0, 32.0, 48.0, 39.0, 27.0, 5.0]</td>\n      <td>6</td>\n      <td>['brown ground beef in large pot', 'add choppe...</td>\n      <td>this modified version of 'mom's' chili was a h...</td>\n      <td>['ground beef', 'yellow onions', 'diced tomato...</td>\n      <td>13</td>\n    </tr>\n    <tr>\n      <th>3</th>\n      <td>alouette  potatoes</td>\n      <td>59389</td>\n      <td>45</td>\n      <td>68585</td>\n      <td>2003-04-14</td>\n      <td>['60-minutes-or-less', 'time-to-make', 'course...</td>\n      <td>[368.1, 17.0, 10.0, 2.0, 14.0, 8.0, 20.0]</td>\n      <td>11</td>\n      <td>['place potatoes in a large pot of lightly sal...</td>\n      <td>this is a super easy, great tasting, make ahea...</td>\n      <td>['spreadable cheese with garlic and herbs', 'n...</td>\n      <td>11</td>\n    </tr>\n    <tr>\n      <th>4</th>\n      <td>amish  tomato ketchup  for canning</td>\n      <td>44061</td>\n      <td>190</td>\n      <td>41706</td>\n      <td>2002-10-25</td>\n      <td>['weeknight', 'time-to-make', 'course', 'main-...</td>\n      <td>[352.9, 1.0, 337.0, 23.0, 3.0, 0.0, 28.0]</td>\n      <td>5</td>\n      <td>['mix all ingredients&amp; boil for 2 1 / 2 hours ...</td>\n      <td>my dh's amish mother raised him on this recipe...</td>\n      <td>['tomato juice', 'apple cider vinegar', 'sugar...</td>\n      <td>8</td>\n    </tr>\n  </tbody>\n</table>\n</div>"
     },
     "metadata": {},
     "output_type": "display_data"
    }
   ],
   "source": [
    "display(interactions_test.head())\n",
    "display(interactions_train.head())\n",
    "display(raw_interactions.head())\n",
    "display(raw_recipes.head())"
   ],
   "metadata": {
    "collapsed": false
   }
  }
 ],
 "metadata": {
  "kernelspec": {
   "display_name": "Python 3",
   "language": "python",
   "name": "python3"
  },
  "language_info": {
   "codemirror_mode": {
    "name": "ipython",
    "version": 2
   },
   "file_extension": ".py",
   "mimetype": "text/x-python",
   "name": "python",
   "nbconvert_exporter": "python",
   "pygments_lexer": "ipython2",
   "version": "2.7.6"
  }
 },
 "nbformat": 4,
 "nbformat_minor": 0
}
