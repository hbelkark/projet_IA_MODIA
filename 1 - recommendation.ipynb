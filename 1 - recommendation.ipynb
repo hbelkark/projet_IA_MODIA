{
 "cells": [
  {
   "cell_type": "markdown",
   "source": [
    "# 1 - Recommendation system"
   ],
   "metadata": {
    "collapsed": false
   }
  },
  {
   "cell_type": "markdown",
   "source": [
    "In this notebook, we focus on proposing a recipe recommendation system based on food.com provided data."
   ],
   "metadata": {
    "collapsed": false
   }
  },
  {
   "cell_type": "code",
   "execution_count": 4,
   "metadata": {
    "collapsed": true
   },
   "outputs": [],
   "source": [
    "import pandas as pd"
   ]
  },
  {
   "cell_type": "code",
   "execution_count": 5,
   "outputs": [],
   "source": [
    "# import of data\n",
    "interactions_test = pd.read_csv(\"./data/interactions_test.csv\")\n",
    "interactions_train = pd.read_csv(\"./data/interactions_train.csv\")\n",
    "raw_interactions = pd.read_csv(\"./data/RAW_interactions.csv\")\n",
    "raw_recipes = pd.read_csv(\"./data/raw_recipes.csv\")"
   ],
   "metadata": {
    "collapsed": false
   }
  },
  {
   "cell_type": "code",
   "execution_count": 6,
   "outputs": [
    {
     "data": {
      "text/plain": "       user_id  recipe_id        date  rating      u       i\n0         8937      44551  2005-12-23     4.0      2  173538\n1        56680     126118  2006-10-07     4.0     16  177847\n2       349752     219596  2008-04-12     0.0     26   89896\n3       628951      82783  2007-11-13     2.0     45  172637\n4        92816     435013  2013-07-31     3.0     52  177935\n...        ...        ...         ...     ...    ...     ...\n12450   101053     179011  2009-01-03     5.0  25054  130258\n12451   252205      81398  2005-12-26     2.0  25055  152255\n12452   624305     142984  2011-01-15     1.0  25057  139864\n12453   173575     104842  2004-12-18     3.0  25059  140646\n12454  1249650     287280  2009-04-28     4.0  25070  166028\n\n[12455 rows x 6 columns]",
      "text/html": "<div>\n<style scoped>\n    .dataframe tbody tr th:only-of-type {\n        vertical-align: middle;\n    }\n\n    .dataframe tbody tr th {\n        vertical-align: top;\n    }\n\n    .dataframe thead th {\n        text-align: right;\n    }\n</style>\n<table border=\"1\" class=\"dataframe\">\n  <thead>\n    <tr style=\"text-align: right;\">\n      <th></th>\n      <th>user_id</th>\n      <th>recipe_id</th>\n      <th>date</th>\n      <th>rating</th>\n      <th>u</th>\n      <th>i</th>\n    </tr>\n  </thead>\n  <tbody>\n    <tr>\n      <th>0</th>\n      <td>8937</td>\n      <td>44551</td>\n      <td>2005-12-23</td>\n      <td>4.0</td>\n      <td>2</td>\n      <td>173538</td>\n    </tr>\n    <tr>\n      <th>1</th>\n      <td>56680</td>\n      <td>126118</td>\n      <td>2006-10-07</td>\n      <td>4.0</td>\n      <td>16</td>\n      <td>177847</td>\n    </tr>\n    <tr>\n      <th>2</th>\n      <td>349752</td>\n      <td>219596</td>\n      <td>2008-04-12</td>\n      <td>0.0</td>\n      <td>26</td>\n      <td>89896</td>\n    </tr>\n    <tr>\n      <th>3</th>\n      <td>628951</td>\n      <td>82783</td>\n      <td>2007-11-13</td>\n      <td>2.0</td>\n      <td>45</td>\n      <td>172637</td>\n    </tr>\n    <tr>\n      <th>4</th>\n      <td>92816</td>\n      <td>435013</td>\n      <td>2013-07-31</td>\n      <td>3.0</td>\n      <td>52</td>\n      <td>177935</td>\n    </tr>\n    <tr>\n      <th>...</th>\n      <td>...</td>\n      <td>...</td>\n      <td>...</td>\n      <td>...</td>\n      <td>...</td>\n      <td>...</td>\n    </tr>\n    <tr>\n      <th>12450</th>\n      <td>101053</td>\n      <td>179011</td>\n      <td>2009-01-03</td>\n      <td>5.0</td>\n      <td>25054</td>\n      <td>130258</td>\n    </tr>\n    <tr>\n      <th>12451</th>\n      <td>252205</td>\n      <td>81398</td>\n      <td>2005-12-26</td>\n      <td>2.0</td>\n      <td>25055</td>\n      <td>152255</td>\n    </tr>\n    <tr>\n      <th>12452</th>\n      <td>624305</td>\n      <td>142984</td>\n      <td>2011-01-15</td>\n      <td>1.0</td>\n      <td>25057</td>\n      <td>139864</td>\n    </tr>\n    <tr>\n      <th>12453</th>\n      <td>173575</td>\n      <td>104842</td>\n      <td>2004-12-18</td>\n      <td>3.0</td>\n      <td>25059</td>\n      <td>140646</td>\n    </tr>\n    <tr>\n      <th>12454</th>\n      <td>1249650</td>\n      <td>287280</td>\n      <td>2009-04-28</td>\n      <td>4.0</td>\n      <td>25070</td>\n      <td>166028</td>\n    </tr>\n  </tbody>\n</table>\n<p>12455 rows × 6 columns</p>\n</div>"
     },
     "metadata": {},
     "output_type": "display_data"
    },
    {
     "data": {
      "text/plain": "           user_id  recipe_id        date  rating      u       i\n0             2046       4684  2000-02-25     5.0  22095   44367\n1             2046        517  2000-02-25     5.0  22095   87844\n2             1773       7435  2000-03-13     5.0  24732  138181\n3             1773        278  2000-03-13     4.0  24732   93054\n4             2046       3431  2000-04-07     5.0  22095  101723\n...            ...        ...         ...     ...    ...     ...\n698896      926904     457971  2018-12-18     5.0  13681  141067\n698897  2002312797      27208  2018-12-18     5.0  14897   99787\n698898     1290903     131607  2018-12-18     5.0  11605   76163\n698899      226867     363072  2018-12-18     5.0   3604   29101\n698900  2000498330     314535  2018-12-19     5.0   2248   21514\n\n[698901 rows x 6 columns]",
      "text/html": "<div>\n<style scoped>\n    .dataframe tbody tr th:only-of-type {\n        vertical-align: middle;\n    }\n\n    .dataframe tbody tr th {\n        vertical-align: top;\n    }\n\n    .dataframe thead th {\n        text-align: right;\n    }\n</style>\n<table border=\"1\" class=\"dataframe\">\n  <thead>\n    <tr style=\"text-align: right;\">\n      <th></th>\n      <th>user_id</th>\n      <th>recipe_id</th>\n      <th>date</th>\n      <th>rating</th>\n      <th>u</th>\n      <th>i</th>\n    </tr>\n  </thead>\n  <tbody>\n    <tr>\n      <th>0</th>\n      <td>2046</td>\n      <td>4684</td>\n      <td>2000-02-25</td>\n      <td>5.0</td>\n      <td>22095</td>\n      <td>44367</td>\n    </tr>\n    <tr>\n      <th>1</th>\n      <td>2046</td>\n      <td>517</td>\n      <td>2000-02-25</td>\n      <td>5.0</td>\n      <td>22095</td>\n      <td>87844</td>\n    </tr>\n    <tr>\n      <th>2</th>\n      <td>1773</td>\n      <td>7435</td>\n      <td>2000-03-13</td>\n      <td>5.0</td>\n      <td>24732</td>\n      <td>138181</td>\n    </tr>\n    <tr>\n      <th>3</th>\n      <td>1773</td>\n      <td>278</td>\n      <td>2000-03-13</td>\n      <td>4.0</td>\n      <td>24732</td>\n      <td>93054</td>\n    </tr>\n    <tr>\n      <th>4</th>\n      <td>2046</td>\n      <td>3431</td>\n      <td>2000-04-07</td>\n      <td>5.0</td>\n      <td>22095</td>\n      <td>101723</td>\n    </tr>\n    <tr>\n      <th>...</th>\n      <td>...</td>\n      <td>...</td>\n      <td>...</td>\n      <td>...</td>\n      <td>...</td>\n      <td>...</td>\n    </tr>\n    <tr>\n      <th>698896</th>\n      <td>926904</td>\n      <td>457971</td>\n      <td>2018-12-18</td>\n      <td>5.0</td>\n      <td>13681</td>\n      <td>141067</td>\n    </tr>\n    <tr>\n      <th>698897</th>\n      <td>2002312797</td>\n      <td>27208</td>\n      <td>2018-12-18</td>\n      <td>5.0</td>\n      <td>14897</td>\n      <td>99787</td>\n    </tr>\n    <tr>\n      <th>698898</th>\n      <td>1290903</td>\n      <td>131607</td>\n      <td>2018-12-18</td>\n      <td>5.0</td>\n      <td>11605</td>\n      <td>76163</td>\n    </tr>\n    <tr>\n      <th>698899</th>\n      <td>226867</td>\n      <td>363072</td>\n      <td>2018-12-18</td>\n      <td>5.0</td>\n      <td>3604</td>\n      <td>29101</td>\n    </tr>\n    <tr>\n      <th>698900</th>\n      <td>2000498330</td>\n      <td>314535</td>\n      <td>2018-12-19</td>\n      <td>5.0</td>\n      <td>2248</td>\n      <td>21514</td>\n    </tr>\n  </tbody>\n</table>\n<p>698901 rows × 6 columns</p>\n</div>"
     },
     "metadata": {},
     "output_type": "display_data"
    },
    {
     "data": {
      "text/plain": "            user_id  recipe_id        date  rating  \\\n0             38094      40893  2003-02-17       4   \n1           1293707      40893  2011-12-21       5   \n2              8937      44394  2002-12-01       4   \n3            126440      85009  2010-02-27       5   \n4             57222      85009  2011-10-01       5   \n...             ...        ...         ...     ...   \n1132362      116593      72730  2003-12-09       0   \n1132363      583662     386618  2009-09-29       5   \n1132364      157126      78003  2008-06-23       5   \n1132365       53932      78003  2009-01-11       4   \n1132366  2001868099      78003  2017-12-18       5   \n\n                                                    review  \n0        Great with a salad. Cooked on top of stove for...  \n1        So simple, so delicious! Great for chilly fall...  \n2        This worked very well and is EASY.  I used not...  \n3        I made the Mexican topping and took it to bunk...  \n4        Made the cheddar bacon topping, adding a sprin...  \n...                                                    ...  \n1132362  Another approach is to start making sauce with...  \n1132363  These were so delicious!  My husband and I tru...  \n1132364  WOW!  Sometimes I don't take the time to rate ...  \n1132365  Very good!  I used regular port as well.  The ...  \n1132366  I am so glad I googled and found this here. Th...  \n\n[1132367 rows x 5 columns]",
      "text/html": "<div>\n<style scoped>\n    .dataframe tbody tr th:only-of-type {\n        vertical-align: middle;\n    }\n\n    .dataframe tbody tr th {\n        vertical-align: top;\n    }\n\n    .dataframe thead th {\n        text-align: right;\n    }\n</style>\n<table border=\"1\" class=\"dataframe\">\n  <thead>\n    <tr style=\"text-align: right;\">\n      <th></th>\n      <th>user_id</th>\n      <th>recipe_id</th>\n      <th>date</th>\n      <th>rating</th>\n      <th>review</th>\n    </tr>\n  </thead>\n  <tbody>\n    <tr>\n      <th>0</th>\n      <td>38094</td>\n      <td>40893</td>\n      <td>2003-02-17</td>\n      <td>4</td>\n      <td>Great with a salad. Cooked on top of stove for...</td>\n    </tr>\n    <tr>\n      <th>1</th>\n      <td>1293707</td>\n      <td>40893</td>\n      <td>2011-12-21</td>\n      <td>5</td>\n      <td>So simple, so delicious! Great for chilly fall...</td>\n    </tr>\n    <tr>\n      <th>2</th>\n      <td>8937</td>\n      <td>44394</td>\n      <td>2002-12-01</td>\n      <td>4</td>\n      <td>This worked very well and is EASY.  I used not...</td>\n    </tr>\n    <tr>\n      <th>3</th>\n      <td>126440</td>\n      <td>85009</td>\n      <td>2010-02-27</td>\n      <td>5</td>\n      <td>I made the Mexican topping and took it to bunk...</td>\n    </tr>\n    <tr>\n      <th>4</th>\n      <td>57222</td>\n      <td>85009</td>\n      <td>2011-10-01</td>\n      <td>5</td>\n      <td>Made the cheddar bacon topping, adding a sprin...</td>\n    </tr>\n    <tr>\n      <th>...</th>\n      <td>...</td>\n      <td>...</td>\n      <td>...</td>\n      <td>...</td>\n      <td>...</td>\n    </tr>\n    <tr>\n      <th>1132362</th>\n      <td>116593</td>\n      <td>72730</td>\n      <td>2003-12-09</td>\n      <td>0</td>\n      <td>Another approach is to start making sauce with...</td>\n    </tr>\n    <tr>\n      <th>1132363</th>\n      <td>583662</td>\n      <td>386618</td>\n      <td>2009-09-29</td>\n      <td>5</td>\n      <td>These were so delicious!  My husband and I tru...</td>\n    </tr>\n    <tr>\n      <th>1132364</th>\n      <td>157126</td>\n      <td>78003</td>\n      <td>2008-06-23</td>\n      <td>5</td>\n      <td>WOW!  Sometimes I don't take the time to rate ...</td>\n    </tr>\n    <tr>\n      <th>1132365</th>\n      <td>53932</td>\n      <td>78003</td>\n      <td>2009-01-11</td>\n      <td>4</td>\n      <td>Very good!  I used regular port as well.  The ...</td>\n    </tr>\n    <tr>\n      <th>1132366</th>\n      <td>2001868099</td>\n      <td>78003</td>\n      <td>2017-12-18</td>\n      <td>5</td>\n      <td>I am so glad I googled and found this here. Th...</td>\n    </tr>\n  </tbody>\n</table>\n<p>1132367 rows × 5 columns</p>\n</div>"
     },
     "metadata": {},
     "output_type": "display_data"
    },
    {
     "data": {
      "text/plain": "                                                name      id  minutes  \\\n0         arriba   baked winter squash mexican style  137739       55   \n1                   a bit different  breakfast pizza   31490       30   \n2                          all in the kitchen  chili  112140      130   \n3                                 alouette  potatoes   59389       45   \n4                 amish  tomato ketchup  for canning   44061      190   \n...                                              ...     ...      ...   \n231632                                   zydeco soup  486161       60   \n231633                              zydeco spice mix  493372        5   \n231634                     zydeco ya ya deviled eggs  308080       40   \n231635        cookies by design   cookies on a stick  298512       29   \n231636  cookies by design   sugar shortbread cookies  298509       20   \n\n        contributor_id   submitted  \\\n0                47892  2005-09-16   \n1                26278  2002-06-17   \n2               196586  2005-02-25   \n3                68585  2003-04-14   \n4                41706  2002-10-25   \n...                ...         ...   \n231632          227978  2012-08-29   \n231633         1500678  2013-01-09   \n231634           37779  2008-06-07   \n231635          506822  2008-04-15   \n231636          506822  2008-04-15   \n\n                                                     tags  \\\n0       ['60-minutes-or-less', 'time-to-make', 'course...   \n1       ['30-minutes-or-less', 'time-to-make', 'course...   \n2       ['time-to-make', 'course', 'preparation', 'mai...   \n3       ['60-minutes-or-less', 'time-to-make', 'course...   \n4       ['weeknight', 'time-to-make', 'course', 'main-...   \n...                                                   ...   \n231632  ['ham', '60-minutes-or-less', 'time-to-make', ...   \n231633  ['15-minutes-or-less', 'time-to-make', 'course...   \n231634  ['60-minutes-or-less', 'time-to-make', 'course...   \n231635  ['30-minutes-or-less', 'time-to-make', 'course...   \n231636  ['30-minutes-or-less', 'time-to-make', 'course...   \n\n                                          nutrition  n_steps  \\\n0             [51.5, 0.0, 13.0, 0.0, 2.0, 0.0, 4.0]       11   \n1         [173.4, 18.0, 0.0, 17.0, 22.0, 35.0, 1.0]        9   \n2        [269.8, 22.0, 32.0, 48.0, 39.0, 27.0, 5.0]        6   \n3         [368.1, 17.0, 10.0, 2.0, 14.0, 8.0, 20.0]       11   \n4         [352.9, 1.0, 337.0, 23.0, 3.0, 0.0, 28.0]        5   \n...                                             ...      ...   \n231632  [415.2, 26.0, 34.0, 26.0, 44.0, 21.0, 15.0]        7   \n231633        [14.8, 0.0, 2.0, 58.0, 1.0, 0.0, 1.0]        1   \n231634         [59.2, 6.0, 2.0, 3.0, 6.0, 5.0, 0.0]        7   \n231635    [188.0, 11.0, 57.0, 11.0, 7.0, 21.0, 9.0]        9   \n231636     [174.9, 14.0, 33.0, 4.0, 4.0, 11.0, 6.0]        5   \n\n                                                    steps  \\\n0       ['make a choice and proceed with recipe', 'dep...   \n1       ['preheat oven to 425 degrees f', 'press dough...   \n2       ['brown ground beef in large pot', 'add choppe...   \n3       ['place potatoes in a large pot of lightly sal...   \n4       ['mix all ingredients& boil for 2 1 / 2 hours ...   \n...                                                   ...   \n231632  ['heat oil in a 4-quart dutch oven', 'add cele...   \n231633        ['mix all ingredients together thoroughly']   \n231634  ['in a bowl , combine the mashed yolks and may...   \n231635  ['place melted butter in a large mixing bowl a...   \n231636  ['whip sugar and shortening in a large bowl , ...   \n\n                                              description  \\\n0       autumn is my favorite time of year to cook! th...   \n1       this recipe calls for the crust to be prebaked...   \n2       this modified version of 'mom's' chili was a h...   \n3       this is a super easy, great tasting, make ahea...   \n4       my dh's amish mother raised him on this recipe...   \n...                                                   ...   \n231632  this is a delicious soup that i originally fou...   \n231633    this spice mix will make your taste buds dance!   \n231634                          deviled eggs, cajun-style   \n231635  i've heard of the 'cookies by design' company,...   \n231636  i've heard of the 'cookies by design' company,...   \n\n                                              ingredients  n_ingredients  \n0       ['winter squash', 'mexican seasoning', 'mixed ...              7  \n1       ['prepared pizza crust', 'sausage patty', 'egg...              6  \n2       ['ground beef', 'yellow onions', 'diced tomato...             13  \n3       ['spreadable cheese with garlic and herbs', 'n...             11  \n4       ['tomato juice', 'apple cider vinegar', 'sugar...              8  \n...                                                   ...            ...  \n231632  ['celery', 'onion', 'green sweet pepper', 'gar...             22  \n231633  ['paprika', 'salt', 'garlic powder', 'onion po...             13  \n231634  ['hard-cooked eggs', 'mayonnaise', 'dijon must...              8  \n231635  ['butter', 'eagle brand condensed milk', 'ligh...             10  \n231636  ['granulated sugar', 'shortening', 'eggs', 'fl...              7  \n\n[231637 rows x 12 columns]",
      "text/html": "<div>\n<style scoped>\n    .dataframe tbody tr th:only-of-type {\n        vertical-align: middle;\n    }\n\n    .dataframe tbody tr th {\n        vertical-align: top;\n    }\n\n    .dataframe thead th {\n        text-align: right;\n    }\n</style>\n<table border=\"1\" class=\"dataframe\">\n  <thead>\n    <tr style=\"text-align: right;\">\n      <th></th>\n      <th>name</th>\n      <th>id</th>\n      <th>minutes</th>\n      <th>contributor_id</th>\n      <th>submitted</th>\n      <th>tags</th>\n      <th>nutrition</th>\n      <th>n_steps</th>\n      <th>steps</th>\n      <th>description</th>\n      <th>ingredients</th>\n      <th>n_ingredients</th>\n    </tr>\n  </thead>\n  <tbody>\n    <tr>\n      <th>0</th>\n      <td>arriba   baked winter squash mexican style</td>\n      <td>137739</td>\n      <td>55</td>\n      <td>47892</td>\n      <td>2005-09-16</td>\n      <td>['60-minutes-or-less', 'time-to-make', 'course...</td>\n      <td>[51.5, 0.0, 13.0, 0.0, 2.0, 0.0, 4.0]</td>\n      <td>11</td>\n      <td>['make a choice and proceed with recipe', 'dep...</td>\n      <td>autumn is my favorite time of year to cook! th...</td>\n      <td>['winter squash', 'mexican seasoning', 'mixed ...</td>\n      <td>7</td>\n    </tr>\n    <tr>\n      <th>1</th>\n      <td>a bit different  breakfast pizza</td>\n      <td>31490</td>\n      <td>30</td>\n      <td>26278</td>\n      <td>2002-06-17</td>\n      <td>['30-minutes-or-less', 'time-to-make', 'course...</td>\n      <td>[173.4, 18.0, 0.0, 17.0, 22.0, 35.0, 1.0]</td>\n      <td>9</td>\n      <td>['preheat oven to 425 degrees f', 'press dough...</td>\n      <td>this recipe calls for the crust to be prebaked...</td>\n      <td>['prepared pizza crust', 'sausage patty', 'egg...</td>\n      <td>6</td>\n    </tr>\n    <tr>\n      <th>2</th>\n      <td>all in the kitchen  chili</td>\n      <td>112140</td>\n      <td>130</td>\n      <td>196586</td>\n      <td>2005-02-25</td>\n      <td>['time-to-make', 'course', 'preparation', 'mai...</td>\n      <td>[269.8, 22.0, 32.0, 48.0, 39.0, 27.0, 5.0]</td>\n      <td>6</td>\n      <td>['brown ground beef in large pot', 'add choppe...</td>\n      <td>this modified version of 'mom's' chili was a h...</td>\n      <td>['ground beef', 'yellow onions', 'diced tomato...</td>\n      <td>13</td>\n    </tr>\n    <tr>\n      <th>3</th>\n      <td>alouette  potatoes</td>\n      <td>59389</td>\n      <td>45</td>\n      <td>68585</td>\n      <td>2003-04-14</td>\n      <td>['60-minutes-or-less', 'time-to-make', 'course...</td>\n      <td>[368.1, 17.0, 10.0, 2.0, 14.0, 8.0, 20.0]</td>\n      <td>11</td>\n      <td>['place potatoes in a large pot of lightly sal...</td>\n      <td>this is a super easy, great tasting, make ahea...</td>\n      <td>['spreadable cheese with garlic and herbs', 'n...</td>\n      <td>11</td>\n    </tr>\n    <tr>\n      <th>4</th>\n      <td>amish  tomato ketchup  for canning</td>\n      <td>44061</td>\n      <td>190</td>\n      <td>41706</td>\n      <td>2002-10-25</td>\n      <td>['weeknight', 'time-to-make', 'course', 'main-...</td>\n      <td>[352.9, 1.0, 337.0, 23.0, 3.0, 0.0, 28.0]</td>\n      <td>5</td>\n      <td>['mix all ingredients&amp; boil for 2 1 / 2 hours ...</td>\n      <td>my dh's amish mother raised him on this recipe...</td>\n      <td>['tomato juice', 'apple cider vinegar', 'sugar...</td>\n      <td>8</td>\n    </tr>\n    <tr>\n      <th>...</th>\n      <td>...</td>\n      <td>...</td>\n      <td>...</td>\n      <td>...</td>\n      <td>...</td>\n      <td>...</td>\n      <td>...</td>\n      <td>...</td>\n      <td>...</td>\n      <td>...</td>\n      <td>...</td>\n      <td>...</td>\n    </tr>\n    <tr>\n      <th>231632</th>\n      <td>zydeco soup</td>\n      <td>486161</td>\n      <td>60</td>\n      <td>227978</td>\n      <td>2012-08-29</td>\n      <td>['ham', '60-minutes-or-less', 'time-to-make', ...</td>\n      <td>[415.2, 26.0, 34.0, 26.0, 44.0, 21.0, 15.0]</td>\n      <td>7</td>\n      <td>['heat oil in a 4-quart dutch oven', 'add cele...</td>\n      <td>this is a delicious soup that i originally fou...</td>\n      <td>['celery', 'onion', 'green sweet pepper', 'gar...</td>\n      <td>22</td>\n    </tr>\n    <tr>\n      <th>231633</th>\n      <td>zydeco spice mix</td>\n      <td>493372</td>\n      <td>5</td>\n      <td>1500678</td>\n      <td>2013-01-09</td>\n      <td>['15-minutes-or-less', 'time-to-make', 'course...</td>\n      <td>[14.8, 0.0, 2.0, 58.0, 1.0, 0.0, 1.0]</td>\n      <td>1</td>\n      <td>['mix all ingredients together thoroughly']</td>\n      <td>this spice mix will make your taste buds dance!</td>\n      <td>['paprika', 'salt', 'garlic powder', 'onion po...</td>\n      <td>13</td>\n    </tr>\n    <tr>\n      <th>231634</th>\n      <td>zydeco ya ya deviled eggs</td>\n      <td>308080</td>\n      <td>40</td>\n      <td>37779</td>\n      <td>2008-06-07</td>\n      <td>['60-minutes-or-less', 'time-to-make', 'course...</td>\n      <td>[59.2, 6.0, 2.0, 3.0, 6.0, 5.0, 0.0]</td>\n      <td>7</td>\n      <td>['in a bowl , combine the mashed yolks and may...</td>\n      <td>deviled eggs, cajun-style</td>\n      <td>['hard-cooked eggs', 'mayonnaise', 'dijon must...</td>\n      <td>8</td>\n    </tr>\n    <tr>\n      <th>231635</th>\n      <td>cookies by design   cookies on a stick</td>\n      <td>298512</td>\n      <td>29</td>\n      <td>506822</td>\n      <td>2008-04-15</td>\n      <td>['30-minutes-or-less', 'time-to-make', 'course...</td>\n      <td>[188.0, 11.0, 57.0, 11.0, 7.0, 21.0, 9.0]</td>\n      <td>9</td>\n      <td>['place melted butter in a large mixing bowl a...</td>\n      <td>i've heard of the 'cookies by design' company,...</td>\n      <td>['butter', 'eagle brand condensed milk', 'ligh...</td>\n      <td>10</td>\n    </tr>\n    <tr>\n      <th>231636</th>\n      <td>cookies by design   sugar shortbread cookies</td>\n      <td>298509</td>\n      <td>20</td>\n      <td>506822</td>\n      <td>2008-04-15</td>\n      <td>['30-minutes-or-less', 'time-to-make', 'course...</td>\n      <td>[174.9, 14.0, 33.0, 4.0, 4.0, 11.0, 6.0]</td>\n      <td>5</td>\n      <td>['whip sugar and shortening in a large bowl , ...</td>\n      <td>i've heard of the 'cookies by design' company,...</td>\n      <td>['granulated sugar', 'shortening', 'eggs', 'fl...</td>\n      <td>7</td>\n    </tr>\n  </tbody>\n</table>\n<p>231637 rows × 12 columns</p>\n</div>"
     },
     "metadata": {},
     "output_type": "display_data"
    }
   ],
   "source": [
    "display(interactions_test)\n",
    "display(interactions_train)\n",
    "display(raw_interactions)\n",
    "display(raw_recipes)"
   ],
   "metadata": {
    "collapsed": false
   }
  },
  {
   "cell_type": "markdown",
   "source": [
    "## 1.1 - By popularity"
   ],
   "metadata": {
    "collapsed": false
   }
  },
  {
   "cell_type": "markdown",
   "source": [
    "We propose here a recommendation system based on recipe popularity. First, we define a dataframe called `metadata` which contains average rating and number of vote for each recipe."
   ],
   "metadata": {
    "collapsed": false
   }
  },
  {
   "cell_type": "code",
   "execution_count": 7,
   "outputs": [
    {
     "data": {
      "text/plain": "        recipe_id  rating_average  rating_count      id  \\\n0              38        4.250000             4      38   \n1              39        3.000000             1      39   \n2              40        4.333333             9      40   \n3              41        4.500000             2      41   \n4              43        1.000000             1      43   \n...           ...             ...           ...     ...   \n231632     537459        5.000000             1  537459   \n231633     537485        5.000000             1  537485   \n231634     537543        0.000000             1  537543   \n231635     537671        0.000000             1  537671   \n231636     537716        5.000000             1  537716   \n\n                                              name  \n0                low fat berry blue frozen dessert  \n1                                          biryani  \n2                                    best lemonade  \n3                   carina s tofu vegetable kebabs  \n4                             best blackbottom pie  \n...                                            ...  \n231632                          bailey s chocotini  \n231633    5 ingredient salted caramel crumble bars  \n231634                      moist gingerbread cake  \n231635  nutcracker peppermint red velvet cake pops  \n231636           mini buffalo chicken cheesesteaks  \n\n[231637 rows x 5 columns]",
      "text/html": "<div>\n<style scoped>\n    .dataframe tbody tr th:only-of-type {\n        vertical-align: middle;\n    }\n\n    .dataframe tbody tr th {\n        vertical-align: top;\n    }\n\n    .dataframe thead th {\n        text-align: right;\n    }\n</style>\n<table border=\"1\" class=\"dataframe\">\n  <thead>\n    <tr style=\"text-align: right;\">\n      <th></th>\n      <th>recipe_id</th>\n      <th>rating_average</th>\n      <th>rating_count</th>\n      <th>id</th>\n      <th>name</th>\n    </tr>\n  </thead>\n  <tbody>\n    <tr>\n      <th>0</th>\n      <td>38</td>\n      <td>4.250000</td>\n      <td>4</td>\n      <td>38</td>\n      <td>low fat berry blue frozen dessert</td>\n    </tr>\n    <tr>\n      <th>1</th>\n      <td>39</td>\n      <td>3.000000</td>\n      <td>1</td>\n      <td>39</td>\n      <td>biryani</td>\n    </tr>\n    <tr>\n      <th>2</th>\n      <td>40</td>\n      <td>4.333333</td>\n      <td>9</td>\n      <td>40</td>\n      <td>best lemonade</td>\n    </tr>\n    <tr>\n      <th>3</th>\n      <td>41</td>\n      <td>4.500000</td>\n      <td>2</td>\n      <td>41</td>\n      <td>carina s tofu vegetable kebabs</td>\n    </tr>\n    <tr>\n      <th>4</th>\n      <td>43</td>\n      <td>1.000000</td>\n      <td>1</td>\n      <td>43</td>\n      <td>best blackbottom pie</td>\n    </tr>\n    <tr>\n      <th>...</th>\n      <td>...</td>\n      <td>...</td>\n      <td>...</td>\n      <td>...</td>\n      <td>...</td>\n    </tr>\n    <tr>\n      <th>231632</th>\n      <td>537459</td>\n      <td>5.000000</td>\n      <td>1</td>\n      <td>537459</td>\n      <td>bailey s chocotini</td>\n    </tr>\n    <tr>\n      <th>231633</th>\n      <td>537485</td>\n      <td>5.000000</td>\n      <td>1</td>\n      <td>537485</td>\n      <td>5 ingredient salted caramel crumble bars</td>\n    </tr>\n    <tr>\n      <th>231634</th>\n      <td>537543</td>\n      <td>0.000000</td>\n      <td>1</td>\n      <td>537543</td>\n      <td>moist gingerbread cake</td>\n    </tr>\n    <tr>\n      <th>231635</th>\n      <td>537671</td>\n      <td>0.000000</td>\n      <td>1</td>\n      <td>537671</td>\n      <td>nutcracker peppermint red velvet cake pops</td>\n    </tr>\n    <tr>\n      <th>231636</th>\n      <td>537716</td>\n      <td>5.000000</td>\n      <td>1</td>\n      <td>537716</td>\n      <td>mini buffalo chicken cheesesteaks</td>\n    </tr>\n  </tbody>\n</table>\n<p>231637 rows × 5 columns</p>\n</div>"
     },
     "execution_count": 7,
     "metadata": {},
     "output_type": "execute_result"
    }
   ],
   "source": [
    "# group by recipe id and get mean and counts of ratings\n",
    "metadata = raw_interactions.groupby('recipe_id')['rating'].agg(['mean', 'count']).reset_index()\n",
    "\n",
    "# rename columns\n",
    "metadata.columns = ['recipe_id', 'rating_average', 'rating_count']\n",
    "\n",
    "# add recipe name for each recipe id\n",
    "metadata = metadata.merge(raw_recipes[['id', 'name']], left_on=\"recipe_id\", right_on=\"id\")\n",
    "\n",
    "metadata"
   ],
   "metadata": {
    "collapsed": false
   }
  },
  {
   "cell_type": "markdown",
   "source": [
    "### 1.1.1 - Best recipes by average note"
   ],
   "metadata": {
    "collapsed": false
   }
  },
  {
   "cell_type": "markdown",
   "source": [
    "We can simply first recommend recipes with the best rating average."
   ],
   "metadata": {
    "collapsed": false
   }
  },
  {
   "cell_type": "code",
   "execution_count": 8,
   "outputs": [
    {
     "data": {
      "text/plain": "                                                     name  rating_average  \\\n231636                  mini buffalo chicken cheesesteaks             5.0   \n93721                                    plum crazy sauce             5.0   \n186335  creme d argenteuil au crabe  asparagus soup w ...             5.0   \n93759                                         coconut pie             5.0   \n186336  tomates farcies d oeuf  egg stuffed tomato w h...             5.0   \n\n        rating_count  \n231636             1  \n93721              1  \n186335             1  \n93759              1  \n186336             4  ",
      "text/html": "<div>\n<style scoped>\n    .dataframe tbody tr th:only-of-type {\n        vertical-align: middle;\n    }\n\n    .dataframe tbody tr th {\n        vertical-align: top;\n    }\n\n    .dataframe thead th {\n        text-align: right;\n    }\n</style>\n<table border=\"1\" class=\"dataframe\">\n  <thead>\n    <tr style=\"text-align: right;\">\n      <th></th>\n      <th>name</th>\n      <th>rating_average</th>\n      <th>rating_count</th>\n    </tr>\n  </thead>\n  <tbody>\n    <tr>\n      <th>231636</th>\n      <td>mini buffalo chicken cheesesteaks</td>\n      <td>5.0</td>\n      <td>1</td>\n    </tr>\n    <tr>\n      <th>93721</th>\n      <td>plum crazy sauce</td>\n      <td>5.0</td>\n      <td>1</td>\n    </tr>\n    <tr>\n      <th>186335</th>\n      <td>creme d argenteuil au crabe  asparagus soup w ...</td>\n      <td>5.0</td>\n      <td>1</td>\n    </tr>\n    <tr>\n      <th>93759</th>\n      <td>coconut pie</td>\n      <td>5.0</td>\n      <td>1</td>\n    </tr>\n    <tr>\n      <th>186336</th>\n      <td>tomates farcies d oeuf  egg stuffed tomato w h...</td>\n      <td>5.0</td>\n      <td>4</td>\n    </tr>\n  </tbody>\n</table>\n</div>"
     },
     "execution_count": 8,
     "metadata": {},
     "output_type": "execute_result"
    }
   ],
   "source": [
    "metadata.sort_values('rating_average', ascending=False).head()[['name', 'rating_average', 'rating_count']]"
   ],
   "metadata": {
    "collapsed": false
   }
  },
  {
   "cell_type": "markdown",
   "source": [
    "We can consider best rating average for recipes with enough rating count."
   ],
   "metadata": {
    "collapsed": false
   }
  },
  {
   "cell_type": "code",
   "execution_count": 9,
   "outputs": [
    {
     "data": {
      "text/plain": "                                                   name  rating_average  \\\n21639                        creamy cajun chicken pasta        4.541436   \n17473               whatever floats your boat  brownies        4.525410   \n11695                  jo mama s world famous spaghetti        4.423015   \n38631  best ever banana cake with cream cheese frosting        4.329047   \n14424                        to die for crock pot roast        4.288570   \n\n       rating_count  \n21639          1448  \n17473          1220  \n11695          1234  \n38631          1322  \n14424          1601  ",
      "text/html": "<div>\n<style scoped>\n    .dataframe tbody tr th:only-of-type {\n        vertical-align: middle;\n    }\n\n    .dataframe tbody tr th {\n        vertical-align: top;\n    }\n\n    .dataframe thead th {\n        text-align: right;\n    }\n</style>\n<table border=\"1\" class=\"dataframe\">\n  <thead>\n    <tr style=\"text-align: right;\">\n      <th></th>\n      <th>name</th>\n      <th>rating_average</th>\n      <th>rating_count</th>\n    </tr>\n  </thead>\n  <tbody>\n    <tr>\n      <th>21639</th>\n      <td>creamy cajun chicken pasta</td>\n      <td>4.541436</td>\n      <td>1448</td>\n    </tr>\n    <tr>\n      <th>17473</th>\n      <td>whatever floats your boat  brownies</td>\n      <td>4.525410</td>\n      <td>1220</td>\n    </tr>\n    <tr>\n      <th>11695</th>\n      <td>jo mama s world famous spaghetti</td>\n      <td>4.423015</td>\n      <td>1234</td>\n    </tr>\n    <tr>\n      <th>38631</th>\n      <td>best ever banana cake with cream cheese frosting</td>\n      <td>4.329047</td>\n      <td>1322</td>\n    </tr>\n    <tr>\n      <th>14424</th>\n      <td>to die for crock pot roast</td>\n      <td>4.288570</td>\n      <td>1601</td>\n    </tr>\n  </tbody>\n</table>\n</div>"
     },
     "execution_count": 9,
     "metadata": {},
     "output_type": "execute_result"
    }
   ],
   "source": [
    "rating_count_threshold = 1000\n",
    "metadata.loc[metadata['rating_count'] >= rating_count_threshold].sort_values(\"rating_average\", ascending=False).head()[['name', 'rating_average', 'rating_count']]"
   ],
   "metadata": {
    "collapsed": false
   }
  },
  {
   "cell_type": "markdown",
   "source": [
    "### 1.1.2 - Best recipes by IMDb score\n",
    "\n"
   ],
   "metadata": {
    "collapsed": false
   }
  },
  {
   "cell_type": "markdown",
   "source": [
    "We can simply first recommend recipes with the best rating average.\n"
   ],
   "metadata": {
    "collapsed": false
   }
  },
  {
   "cell_type": "code",
   "execution_count": 9,
   "outputs": [],
   "source": [],
   "metadata": {
    "collapsed": false
   }
  }
 ],
 "metadata": {
  "kernelspec": {
   "display_name": "Python 3",
   "language": "python",
   "name": "python3"
  },
  "language_info": {
   "codemirror_mode": {
    "name": "ipython",
    "version": 2
   },
   "file_extension": ".py",
   "mimetype": "text/x-python",
   "name": "python",
   "nbconvert_exporter": "python",
   "pygments_lexer": "ipython2",
   "version": "2.7.6"
  }
 },
 "nbformat": 4,
 "nbformat_minor": 0
}
